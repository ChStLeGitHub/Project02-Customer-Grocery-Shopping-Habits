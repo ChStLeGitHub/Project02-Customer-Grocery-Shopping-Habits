{
 "cells": [
  {
   "cell_type": "markdown",
   "id": "298eaf97",
   "metadata": {},
   "source": [
    "# Table of Contents"
   ]
  },
  {
   "cell_type": "markdown",
   "id": "5ce4f500",
   "metadata": {},
   "source": [
    "[Introduction](#1)\n",
    "\n",
    "[Find and remove duplicate values](#2)\n",
    "\n",
    "[Find and remove missing values](#3)\n",
    "\n",
    "[[A] Easy (must complete all to pass)](#4)\n",
    "\n",
    "[[B] Medium (must complete all to pass)](#5)\n",
    "\n",
    "[[C] Hard (must complete at least two to pass)](#6)\n",
    "\n",
    "[Conclusion](#7)"
   ]
  },
  {
   "cell_type": "markdown",
   "id": "e6662628",
   "metadata": {},
   "source": [
    "# Introduction <a id = 1></a>"
   ]
  },
  {
   "cell_type": "markdown",
   "id": "5d179d74",
   "metadata": {},
   "source": [
    "In this project, I analyze a dataset of the grocery delivery platform Instacart, which is modified from a dataset that was publicly released by Instacart in 2017. The purpose of the analysis is to give stakeholders insight into the shopping habits of Instacart customers. After cleaning the data of duplicates and missing values, I answer questions regarding, among other things, the hour of day customers tend to shop, the day of the week they tend to shop, how many days it takes for them to go shopping again, which products are most frequently ordered, how often customers reorder particular products, and how many products customers tend to buy. \n",
    "    \n",
    "There are five tables in the dataset:\n",
    "\n",
    "(1) `instacart_orders`, where each row corresponds to one order on the Instacart app.\n",
    "\n",
    "(2) `products`, where each row corresponds to a unique product that customers can buy.\n",
    "\n",
    "(3) `order_products`, where each row corresponds to one item placed in an order.\n",
    "\n",
    "(4) `aisles`, which contains the names and ID numbers of the grocery aisle categories.\n",
    "\n",
    "(5) `departments`, which contains the names and ID numbers of the grocery department categories."
   ]
  },
  {
   "cell_type": "code",
   "execution_count": 1,
   "id": "a269df6d",
   "metadata": {},
   "outputs": [],
   "source": [
    "import matplotlib.pyplot as plt\n",
    "import numpy as np\n",
    "import pandas as pd"
   ]
  },
  {
   "cell_type": "markdown",
   "id": "28341baf",
   "metadata": {},
   "source": [
    "All five of the data files for this project have the same nonstandard formatting, which consists of all the data entries being connected together using semicolons. Hence, the **sep = ';'** argument is needed with the **pd.read_csv** function."
   ]
  },
  {
   "cell_type": "code",
   "execution_count": 2,
   "id": "fbf1adab",
   "metadata": {},
   "outputs": [
    {
     "name": "stdout",
     "output_type": "stream",
     "text": [
      "<class 'pandas.core.frame.DataFrame'>\n",
      "RangeIndex: 478967 entries, 0 to 478966\n",
      "Data columns (total 6 columns):\n",
      " #   Column                  Non-Null Count   Dtype  \n",
      "---  ------                  --------------   -----  \n",
      " 0   order_id                478967 non-null  int64  \n",
      " 1   user_id                 478967 non-null  int64  \n",
      " 2   order_number            478967 non-null  int64  \n",
      " 3   order_dow               478967 non-null  int64  \n",
      " 4   order_hour_of_day       478967 non-null  int64  \n",
      " 5   days_since_prior_order  450148 non-null  float64\n",
      "dtypes: float64(1), int64(5)\n",
      "memory usage: 21.9 MB\n"
     ]
    }
   ],
   "source": [
    "instacart_orders = pd.read_csv('/datasets/instacart_orders.csv', sep = ';')\n",
    "instacart_orders.info()"
   ]
  },
  {
   "cell_type": "code",
   "execution_count": 3,
   "id": "ad36396d",
   "metadata": {},
   "outputs": [
    {
     "name": "stdout",
     "output_type": "stream",
     "text": [
      "<class 'pandas.core.frame.DataFrame'>\n",
      "RangeIndex: 49694 entries, 0 to 49693\n",
      "Data columns (total 4 columns):\n",
      " #   Column         Non-Null Count  Dtype \n",
      "---  ------         --------------  ----- \n",
      " 0   product_id     49694 non-null  int64 \n",
      " 1   product_name   48436 non-null  object\n",
      " 2   aisle_id       49694 non-null  int64 \n",
      " 3   department_id  49694 non-null  int64 \n",
      "dtypes: int64(3), object(1)\n",
      "memory usage: 1.5+ MB\n"
     ]
    }
   ],
   "source": [
    "products = pd.read_csv('/datasets/products.csv', sep = ';')\n",
    "products.info()"
   ]
  },
  {
   "cell_type": "code",
   "execution_count": 4,
   "id": "ad6a1efa",
   "metadata": {},
   "outputs": [
    {
     "name": "stdout",
     "output_type": "stream",
     "text": [
      "<class 'pandas.core.frame.DataFrame'>\n",
      "RangeIndex: 21 entries, 0 to 20\n",
      "Data columns (total 2 columns):\n",
      " #   Column         Non-Null Count  Dtype \n",
      "---  ------         --------------  ----- \n",
      " 0   department_id  21 non-null     int64 \n",
      " 1   department     21 non-null     object\n",
      "dtypes: int64(1), object(1)\n",
      "memory usage: 464.0+ bytes\n"
     ]
    }
   ],
   "source": [
    "departments = pd.read_csv('/datasets/departments.csv', sep = ';')\n",
    "departments.info()"
   ]
  },
  {
   "cell_type": "code",
   "execution_count": 5,
   "id": "5130e05e",
   "metadata": {},
   "outputs": [
    {
     "name": "stdout",
     "output_type": "stream",
     "text": [
      "<class 'pandas.core.frame.DataFrame'>\n",
      "RangeIndex: 134 entries, 0 to 133\n",
      "Data columns (total 2 columns):\n",
      " #   Column    Non-Null Count  Dtype \n",
      "---  ------    --------------  ----- \n",
      " 0   aisle_id  134 non-null    int64 \n",
      " 1   aisle     134 non-null    object\n",
      "dtypes: int64(1), object(1)\n",
      "memory usage: 2.2+ KB\n"
     ]
    }
   ],
   "source": [
    "aisles = pd.read_csv('/datasets/aisles.csv', sep = ';')\n",
    "aisles.info()"
   ]
  },
  {
   "cell_type": "code",
   "execution_count": 6,
   "id": "d8370c05",
   "metadata": {},
   "outputs": [
    {
     "name": "stdout",
     "output_type": "stream",
     "text": [
      "<class 'pandas.core.frame.DataFrame'>\n",
      "RangeIndex: 4545007 entries, 0 to 4545006\n",
      "Data columns (total 4 columns):\n",
      " #   Column             Non-Null Count    Dtype  \n",
      "---  ------             --------------    -----  \n",
      " 0   order_id           4545007 non-null  int64  \n",
      " 1   product_id         4545007 non-null  int64  \n",
      " 2   add_to_cart_order  4544171 non-null  float64\n",
      " 3   reordered          4545007 non-null  int64  \n",
      "dtypes: float64(1), int64(3)\n",
      "memory usage: 138.7 MB\n"
     ]
    }
   ],
   "source": [
    "order_products = pd.read_csv('/datasets/order_products.csv', sep = ';')\n",
    "order_products.info(show_counts = True)"
   ]
  },
  {
   "cell_type": "markdown",
   "id": "59aa1386",
   "metadata": {},
   "source": [
    "Notice that **order_products.info()** has the argument **show_counts = True**. This argument should be considered to be included whenever a DataFrame has an especially large number of rows, otherwise info() might not print the non-null value counts."
   ]
  },
  {
   "cell_type": "markdown",
   "id": "07357848-dc64-4156-9cc3-01ff4365226d",
   "metadata": {},
   "source": [
    "# Find and remove duplicate values <a id = 2></a>"
   ]
  },
  {
   "cell_type": "markdown",
   "id": "f179f0a9",
   "metadata": {},
   "source": [
    "`orders` **DataFrame**"
   ]
  },
  {
   "cell_type": "markdown",
   "id": "80c768f8",
   "metadata": {},
   "source": [
    "The line below finds that the number of duplicated rows in this DataFrame is 15. This is useful to know because after I drop the duplicates there should be 15 fewer rows in total."
   ]
  },
  {
   "cell_type": "code",
   "execution_count": 7,
   "id": "b99297a5-405a-463d-8535-9adc3da4ad74",
   "metadata": {},
   "outputs": [
    {
     "data": {
      "text/html": [
       "<div>\n",
       "<style scoped>\n",
       "    .dataframe tbody tr th:only-of-type {\n",
       "        vertical-align: middle;\n",
       "    }\n",
       "\n",
       "    .dataframe tbody tr th {\n",
       "        vertical-align: top;\n",
       "    }\n",
       "\n",
       "    .dataframe thead th {\n",
       "        text-align: right;\n",
       "    }\n",
       "</style>\n",
       "<table border=\"1\" class=\"dataframe\">\n",
       "  <thead>\n",
       "    <tr style=\"text-align: right;\">\n",
       "      <th></th>\n",
       "      <th>order_id</th>\n",
       "      <th>user_id</th>\n",
       "      <th>order_number</th>\n",
       "      <th>order_dow</th>\n",
       "      <th>order_hour_of_day</th>\n",
       "      <th>days_since_prior_order</th>\n",
       "    </tr>\n",
       "  </thead>\n",
       "  <tbody>\n",
       "    <tr>\n",
       "      <th>145574</th>\n",
       "      <td>794638</td>\n",
       "      <td>50898</td>\n",
       "      <td>24</td>\n",
       "      <td>3</td>\n",
       "      <td>2</td>\n",
       "      <td>2.0</td>\n",
       "    </tr>\n",
       "    <tr>\n",
       "      <th>223105</th>\n",
       "      <td>2160484</td>\n",
       "      <td>107525</td>\n",
       "      <td>16</td>\n",
       "      <td>3</td>\n",
       "      <td>2</td>\n",
       "      <td>30.0</td>\n",
       "    </tr>\n",
       "    <tr>\n",
       "      <th>230807</th>\n",
       "      <td>1918001</td>\n",
       "      <td>188546</td>\n",
       "      <td>14</td>\n",
       "      <td>3</td>\n",
       "      <td>2</td>\n",
       "      <td>16.0</td>\n",
       "    </tr>\n",
       "    <tr>\n",
       "      <th>266232</th>\n",
       "      <td>1782114</td>\n",
       "      <td>106752</td>\n",
       "      <td>1</td>\n",
       "      <td>3</td>\n",
       "      <td>2</td>\n",
       "      <td>NaN</td>\n",
       "    </tr>\n",
       "    <tr>\n",
       "      <th>273805</th>\n",
       "      <td>1112182</td>\n",
       "      <td>202304</td>\n",
       "      <td>84</td>\n",
       "      <td>3</td>\n",
       "      <td>2</td>\n",
       "      <td>6.0</td>\n",
       "    </tr>\n",
       "    <tr>\n",
       "      <th>284038</th>\n",
       "      <td>2845099</td>\n",
       "      <td>31189</td>\n",
       "      <td>11</td>\n",
       "      <td>3</td>\n",
       "      <td>2</td>\n",
       "      <td>7.0</td>\n",
       "    </tr>\n",
       "    <tr>\n",
       "      <th>311713</th>\n",
       "      <td>1021560</td>\n",
       "      <td>53767</td>\n",
       "      <td>3</td>\n",
       "      <td>3</td>\n",
       "      <td>2</td>\n",
       "      <td>9.0</td>\n",
       "    </tr>\n",
       "    <tr>\n",
       "      <th>321100</th>\n",
       "      <td>408114</td>\n",
       "      <td>68324</td>\n",
       "      <td>4</td>\n",
       "      <td>3</td>\n",
       "      <td>2</td>\n",
       "      <td>18.0</td>\n",
       "    </tr>\n",
       "    <tr>\n",
       "      <th>323900</th>\n",
       "      <td>1919531</td>\n",
       "      <td>191501</td>\n",
       "      <td>32</td>\n",
       "      <td>3</td>\n",
       "      <td>2</td>\n",
       "      <td>7.0</td>\n",
       "    </tr>\n",
       "    <tr>\n",
       "      <th>345917</th>\n",
       "      <td>2232988</td>\n",
       "      <td>82565</td>\n",
       "      <td>1</td>\n",
       "      <td>3</td>\n",
       "      <td>2</td>\n",
       "      <td>NaN</td>\n",
       "    </tr>\n",
       "    <tr>\n",
       "      <th>371905</th>\n",
       "      <td>391768</td>\n",
       "      <td>57671</td>\n",
       "      <td>19</td>\n",
       "      <td>3</td>\n",
       "      <td>2</td>\n",
       "      <td>10.0</td>\n",
       "    </tr>\n",
       "    <tr>\n",
       "      <th>394347</th>\n",
       "      <td>467134</td>\n",
       "      <td>63189</td>\n",
       "      <td>21</td>\n",
       "      <td>3</td>\n",
       "      <td>2</td>\n",
       "      <td>2.0</td>\n",
       "    </tr>\n",
       "    <tr>\n",
       "      <th>411408</th>\n",
       "      <td>1286742</td>\n",
       "      <td>183220</td>\n",
       "      <td>48</td>\n",
       "      <td>3</td>\n",
       "      <td>2</td>\n",
       "      <td>4.0</td>\n",
       "    </tr>\n",
       "    <tr>\n",
       "      <th>415163</th>\n",
       "      <td>2282673</td>\n",
       "      <td>86751</td>\n",
       "      <td>49</td>\n",
       "      <td>3</td>\n",
       "      <td>2</td>\n",
       "      <td>2.0</td>\n",
       "    </tr>\n",
       "    <tr>\n",
       "      <th>441599</th>\n",
       "      <td>2125197</td>\n",
       "      <td>14050</td>\n",
       "      <td>48</td>\n",
       "      <td>3</td>\n",
       "      <td>2</td>\n",
       "      <td>3.0</td>\n",
       "    </tr>\n",
       "  </tbody>\n",
       "</table>\n",
       "</div>"
      ],
      "text/plain": [
       "        order_id  user_id  order_number  order_dow  order_hour_of_day  \\\n",
       "145574    794638    50898            24          3                  2   \n",
       "223105   2160484   107525            16          3                  2   \n",
       "230807   1918001   188546            14          3                  2   \n",
       "266232   1782114   106752             1          3                  2   \n",
       "273805   1112182   202304            84          3                  2   \n",
       "284038   2845099    31189            11          3                  2   \n",
       "311713   1021560    53767             3          3                  2   \n",
       "321100    408114    68324             4          3                  2   \n",
       "323900   1919531   191501            32          3                  2   \n",
       "345917   2232988    82565             1          3                  2   \n",
       "371905    391768    57671            19          3                  2   \n",
       "394347    467134    63189            21          3                  2   \n",
       "411408   1286742   183220            48          3                  2   \n",
       "415163   2282673    86751            49          3                  2   \n",
       "441599   2125197    14050            48          3                  2   \n",
       "\n",
       "        days_since_prior_order  \n",
       "145574                     2.0  \n",
       "223105                    30.0  \n",
       "230807                    16.0  \n",
       "266232                     NaN  \n",
       "273805                     6.0  \n",
       "284038                     7.0  \n",
       "311713                     9.0  \n",
       "321100                    18.0  \n",
       "323900                     7.0  \n",
       "345917                     NaN  \n",
       "371905                    10.0  \n",
       "394347                     2.0  \n",
       "411408                     4.0  \n",
       "415163                     2.0  \n",
       "441599                     3.0  "
      ]
     },
     "metadata": {},
     "output_type": "display_data"
    },
    {
     "name": "stdout",
     "output_type": "stream",
     "text": [
      "Number of duplicated rows: 15\n"
     ]
    }
   ],
   "source": [
    "display(instacart_orders[instacart_orders.duplicated()])\n",
    "\n",
    "print('Number of duplicated rows:', len(instacart_orders[instacart_orders.duplicated()]))"
   ]
  },
  {
   "cell_type": "markdown",
   "id": "dbb54a90",
   "metadata": {},
   "source": [
    "I noticed that **ALL** of the duplicated orders took place on Thursday at 2:00 AM. There are 121 rows of orders that fit this filtering criteria, so after I drop the duplicates there should only be 121 – 15 = 106 rows left."
   ]
  },
  {
   "cell_type": "code",
   "execution_count": 8,
   "id": "0d44de5d",
   "metadata": {},
   "outputs": [
    {
     "data": {
      "text/html": [
       "<div>\n",
       "<style scoped>\n",
       "    .dataframe tbody tr th:only-of-type {\n",
       "        vertical-align: middle;\n",
       "    }\n",
       "\n",
       "    .dataframe tbody tr th {\n",
       "        vertical-align: top;\n",
       "    }\n",
       "\n",
       "    .dataframe thead th {\n",
       "        text-align: right;\n",
       "    }\n",
       "</style>\n",
       "<table border=\"1\" class=\"dataframe\">\n",
       "  <thead>\n",
       "    <tr style=\"text-align: right;\">\n",
       "      <th></th>\n",
       "      <th>order_id</th>\n",
       "      <th>user_id</th>\n",
       "      <th>order_number</th>\n",
       "      <th>order_dow</th>\n",
       "      <th>order_hour_of_day</th>\n",
       "      <th>days_since_prior_order</th>\n",
       "    </tr>\n",
       "  </thead>\n",
       "  <tbody>\n",
       "    <tr>\n",
       "      <th>4838</th>\n",
       "      <td>2766110</td>\n",
       "      <td>162084</td>\n",
       "      <td>41</td>\n",
       "      <td>3</td>\n",
       "      <td>2</td>\n",
       "      <td>16.0</td>\n",
       "    </tr>\n",
       "    <tr>\n",
       "      <th>5156</th>\n",
       "      <td>2190225</td>\n",
       "      <td>138285</td>\n",
       "      <td>18</td>\n",
       "      <td>3</td>\n",
       "      <td>2</td>\n",
       "      <td>11.0</td>\n",
       "    </tr>\n",
       "    <tr>\n",
       "      <th>15506</th>\n",
       "      <td>553049</td>\n",
       "      <td>58599</td>\n",
       "      <td>13</td>\n",
       "      <td>3</td>\n",
       "      <td>2</td>\n",
       "      <td>7.0</td>\n",
       "    </tr>\n",
       "    <tr>\n",
       "      <th>18420</th>\n",
       "      <td>382357</td>\n",
       "      <td>120200</td>\n",
       "      <td>19</td>\n",
       "      <td>3</td>\n",
       "      <td>2</td>\n",
       "      <td>11.0</td>\n",
       "    </tr>\n",
       "    <tr>\n",
       "      <th>24691</th>\n",
       "      <td>690242</td>\n",
       "      <td>77357</td>\n",
       "      <td>2</td>\n",
       "      <td>3</td>\n",
       "      <td>2</td>\n",
       "      <td>9.0</td>\n",
       "    </tr>\n",
       "    <tr>\n",
       "      <th>...</th>\n",
       "      <td>...</td>\n",
       "      <td>...</td>\n",
       "      <td>...</td>\n",
       "      <td>...</td>\n",
       "      <td>...</td>\n",
       "      <td>...</td>\n",
       "    </tr>\n",
       "    <tr>\n",
       "      <th>457013</th>\n",
       "      <td>3384021</td>\n",
       "      <td>14881</td>\n",
       "      <td>6</td>\n",
       "      <td>3</td>\n",
       "      <td>2</td>\n",
       "      <td>30.0</td>\n",
       "    </tr>\n",
       "    <tr>\n",
       "      <th>458816</th>\n",
       "      <td>910166</td>\n",
       "      <td>164782</td>\n",
       "      <td>18</td>\n",
       "      <td>3</td>\n",
       "      <td>2</td>\n",
       "      <td>4.0</td>\n",
       "    </tr>\n",
       "    <tr>\n",
       "      <th>459635</th>\n",
       "      <td>1680532</td>\n",
       "      <td>106435</td>\n",
       "      <td>6</td>\n",
       "      <td>3</td>\n",
       "      <td>2</td>\n",
       "      <td>21.0</td>\n",
       "    </tr>\n",
       "    <tr>\n",
       "      <th>468324</th>\n",
       "      <td>222962</td>\n",
       "      <td>54979</td>\n",
       "      <td>59</td>\n",
       "      <td>3</td>\n",
       "      <td>2</td>\n",
       "      <td>3.0</td>\n",
       "    </tr>\n",
       "    <tr>\n",
       "      <th>477526</th>\n",
       "      <td>2592344</td>\n",
       "      <td>46860</td>\n",
       "      <td>38</td>\n",
       "      <td>3</td>\n",
       "      <td>2</td>\n",
       "      <td>3.0</td>\n",
       "    </tr>\n",
       "  </tbody>\n",
       "</table>\n",
       "<p>121 rows × 6 columns</p>\n",
       "</div>"
      ],
      "text/plain": [
       "        order_id  user_id  order_number  order_dow  order_hour_of_day  \\\n",
       "4838     2766110   162084            41          3                  2   \n",
       "5156     2190225   138285            18          3                  2   \n",
       "15506     553049    58599            13          3                  2   \n",
       "18420     382357   120200            19          3                  2   \n",
       "24691     690242    77357             2          3                  2   \n",
       "...          ...      ...           ...        ...                ...   \n",
       "457013   3384021    14881             6          3                  2   \n",
       "458816    910166   164782            18          3                  2   \n",
       "459635   1680532   106435             6          3                  2   \n",
       "468324    222962    54979            59          3                  2   \n",
       "477526   2592344    46860            38          3                  2   \n",
       "\n",
       "        days_since_prior_order  \n",
       "4838                      16.0  \n",
       "5156                      11.0  \n",
       "15506                      7.0  \n",
       "18420                     11.0  \n",
       "24691                      9.0  \n",
       "...                        ...  \n",
       "457013                    30.0  \n",
       "458816                     4.0  \n",
       "459635                    21.0  \n",
       "468324                     3.0  \n",
       "477526                     3.0  \n",
       "\n",
       "[121 rows x 6 columns]"
      ]
     },
     "execution_count": 8,
     "metadata": {},
     "output_type": "execute_result"
    }
   ],
   "source": [
    "instacart_orders[(instacart_orders['order_dow'] == 3) & (instacart_orders['order_hour_of_day'] == 2)]"
   ]
  },
  {
   "cell_type": "markdown",
   "id": "4d5400a7",
   "metadata": {},
   "source": [
    "The line below redefines the DataFrame by removing the 15 rows of duplicates. "
   ]
  },
  {
   "cell_type": "code",
   "execution_count": 9,
   "id": "480563c7",
   "metadata": {},
   "outputs": [],
   "source": [
    "instacart_orders = instacart_orders.drop_duplicates().reset_index()"
   ]
  },
  {
   "cell_type": "code",
   "execution_count": 10,
   "id": "0b2396a2",
   "metadata": {},
   "outputs": [
    {
     "data": {
      "text/html": [
       "<div>\n",
       "<style scoped>\n",
       "    .dataframe tbody tr th:only-of-type {\n",
       "        vertical-align: middle;\n",
       "    }\n",
       "\n",
       "    .dataframe tbody tr th {\n",
       "        vertical-align: top;\n",
       "    }\n",
       "\n",
       "    .dataframe thead th {\n",
       "        text-align: right;\n",
       "    }\n",
       "</style>\n",
       "<table border=\"1\" class=\"dataframe\">\n",
       "  <thead>\n",
       "    <tr style=\"text-align: right;\">\n",
       "      <th></th>\n",
       "      <th>index</th>\n",
       "      <th>order_id</th>\n",
       "      <th>user_id</th>\n",
       "      <th>order_number</th>\n",
       "      <th>order_dow</th>\n",
       "      <th>order_hour_of_day</th>\n",
       "      <th>days_since_prior_order</th>\n",
       "    </tr>\n",
       "  </thead>\n",
       "  <tbody>\n",
       "    <tr>\n",
       "      <th>4838</th>\n",
       "      <td>4838</td>\n",
       "      <td>2766110</td>\n",
       "      <td>162084</td>\n",
       "      <td>41</td>\n",
       "      <td>3</td>\n",
       "      <td>2</td>\n",
       "      <td>16.0</td>\n",
       "    </tr>\n",
       "    <tr>\n",
       "      <th>5156</th>\n",
       "      <td>5156</td>\n",
       "      <td>2190225</td>\n",
       "      <td>138285</td>\n",
       "      <td>18</td>\n",
       "      <td>3</td>\n",
       "      <td>2</td>\n",
       "      <td>11.0</td>\n",
       "    </tr>\n",
       "    <tr>\n",
       "      <th>15506</th>\n",
       "      <td>15506</td>\n",
       "      <td>553049</td>\n",
       "      <td>58599</td>\n",
       "      <td>13</td>\n",
       "      <td>3</td>\n",
       "      <td>2</td>\n",
       "      <td>7.0</td>\n",
       "    </tr>\n",
       "    <tr>\n",
       "      <th>18420</th>\n",
       "      <td>18420</td>\n",
       "      <td>382357</td>\n",
       "      <td>120200</td>\n",
       "      <td>19</td>\n",
       "      <td>3</td>\n",
       "      <td>2</td>\n",
       "      <td>11.0</td>\n",
       "    </tr>\n",
       "    <tr>\n",
       "      <th>24691</th>\n",
       "      <td>24691</td>\n",
       "      <td>690242</td>\n",
       "      <td>77357</td>\n",
       "      <td>2</td>\n",
       "      <td>3</td>\n",
       "      <td>2</td>\n",
       "      <td>9.0</td>\n",
       "    </tr>\n",
       "    <tr>\n",
       "      <th>...</th>\n",
       "      <td>...</td>\n",
       "      <td>...</td>\n",
       "      <td>...</td>\n",
       "      <td>...</td>\n",
       "      <td>...</td>\n",
       "      <td>...</td>\n",
       "      <td>...</td>\n",
       "    </tr>\n",
       "    <tr>\n",
       "      <th>456998</th>\n",
       "      <td>457013</td>\n",
       "      <td>3384021</td>\n",
       "      <td>14881</td>\n",
       "      <td>6</td>\n",
       "      <td>3</td>\n",
       "      <td>2</td>\n",
       "      <td>30.0</td>\n",
       "    </tr>\n",
       "    <tr>\n",
       "      <th>458801</th>\n",
       "      <td>458816</td>\n",
       "      <td>910166</td>\n",
       "      <td>164782</td>\n",
       "      <td>18</td>\n",
       "      <td>3</td>\n",
       "      <td>2</td>\n",
       "      <td>4.0</td>\n",
       "    </tr>\n",
       "    <tr>\n",
       "      <th>459620</th>\n",
       "      <td>459635</td>\n",
       "      <td>1680532</td>\n",
       "      <td>106435</td>\n",
       "      <td>6</td>\n",
       "      <td>3</td>\n",
       "      <td>2</td>\n",
       "      <td>21.0</td>\n",
       "    </tr>\n",
       "    <tr>\n",
       "      <th>468309</th>\n",
       "      <td>468324</td>\n",
       "      <td>222962</td>\n",
       "      <td>54979</td>\n",
       "      <td>59</td>\n",
       "      <td>3</td>\n",
       "      <td>2</td>\n",
       "      <td>3.0</td>\n",
       "    </tr>\n",
       "    <tr>\n",
       "      <th>477511</th>\n",
       "      <td>477526</td>\n",
       "      <td>2592344</td>\n",
       "      <td>46860</td>\n",
       "      <td>38</td>\n",
       "      <td>3</td>\n",
       "      <td>2</td>\n",
       "      <td>3.0</td>\n",
       "    </tr>\n",
       "  </tbody>\n",
       "</table>\n",
       "<p>106 rows × 7 columns</p>\n",
       "</div>"
      ],
      "text/plain": [
       "         index  order_id  user_id  order_number  order_dow  order_hour_of_day  \\\n",
       "4838      4838   2766110   162084            41          3                  2   \n",
       "5156      5156   2190225   138285            18          3                  2   \n",
       "15506    15506    553049    58599            13          3                  2   \n",
       "18420    18420    382357   120200            19          3                  2   \n",
       "24691    24691    690242    77357             2          3                  2   \n",
       "...        ...       ...      ...           ...        ...                ...   \n",
       "456998  457013   3384021    14881             6          3                  2   \n",
       "458801  458816    910166   164782            18          3                  2   \n",
       "459620  459635   1680532   106435             6          3                  2   \n",
       "468309  468324    222962    54979            59          3                  2   \n",
       "477511  477526   2592344    46860            38          3                  2   \n",
       "\n",
       "        days_since_prior_order  \n",
       "4838                      16.0  \n",
       "5156                      11.0  \n",
       "15506                      7.0  \n",
       "18420                     11.0  \n",
       "24691                      9.0  \n",
       "...                        ...  \n",
       "456998                    30.0  \n",
       "458801                     4.0  \n",
       "459620                    21.0  \n",
       "468309                     3.0  \n",
       "477511                     3.0  \n",
       "\n",
       "[106 rows x 7 columns]"
      ]
     },
     "execution_count": 10,
     "metadata": {},
     "output_type": "execute_result"
    }
   ],
   "source": [
    "instacart_orders[(instacart_orders['order_dow'] == 3) & (instacart_orders['order_hour_of_day'] == 2)]"
   ]
  },
  {
   "cell_type": "markdown",
   "id": "66595f91",
   "metadata": {},
   "source": [
    "As expected, there are now only 106 rows of orders that took place on Thursday at 2:00 AM. The above result assures me that the duplicates have been successfully dropped."
   ]
  },
  {
   "cell_type": "markdown",
   "id": "c0ed4fe0",
   "metadata": {},
   "source": [
    "Now let's double check for duplicate order IDs only. The line of code below displays an empty DataFrame, which confirms that the duplicates have been dropped. The argument **subset = 'order_id'** makes sense to use because if any two (or more) orders <u>STILL</u> had the same order_id number, that would mean there are still duplicated orders in the DataFrame."
   ]
  },
  {
   "cell_type": "code",
   "execution_count": 11,
   "id": "f6113ef1",
   "metadata": {},
   "outputs": [
    {
     "data": {
      "text/html": [
       "<div>\n",
       "<style scoped>\n",
       "    .dataframe tbody tr th:only-of-type {\n",
       "        vertical-align: middle;\n",
       "    }\n",
       "\n",
       "    .dataframe tbody tr th {\n",
       "        vertical-align: top;\n",
       "    }\n",
       "\n",
       "    .dataframe thead th {\n",
       "        text-align: right;\n",
       "    }\n",
       "</style>\n",
       "<table border=\"1\" class=\"dataframe\">\n",
       "  <thead>\n",
       "    <tr style=\"text-align: right;\">\n",
       "      <th></th>\n",
       "      <th>index</th>\n",
       "      <th>order_id</th>\n",
       "      <th>user_id</th>\n",
       "      <th>order_number</th>\n",
       "      <th>order_dow</th>\n",
       "      <th>order_hour_of_day</th>\n",
       "      <th>days_since_prior_order</th>\n",
       "    </tr>\n",
       "  </thead>\n",
       "  <tbody>\n",
       "  </tbody>\n",
       "</table>\n",
       "</div>"
      ],
      "text/plain": [
       "Empty DataFrame\n",
       "Columns: [index, order_id, user_id, order_number, order_dow, order_hour_of_day, days_since_prior_order]\n",
       "Index: []"
      ]
     },
     "execution_count": 11,
     "metadata": {},
     "output_type": "execute_result"
    }
   ],
   "source": [
    "instacart_orders[instacart_orders.duplicated(subset = 'order_id')]"
   ]
  },
  {
   "cell_type": "markdown",
   "id": "45e6bc46",
   "metadata": {},
   "source": [
    "`products` **DataFrame**"
   ]
  },
  {
   "cell_type": "markdown",
   "id": "1227f4b2",
   "metadata": {},
   "source": [
    "Let's see if this dataframe has any exact duplicate rows."
   ]
  },
  {
   "cell_type": "code",
   "execution_count": 12,
   "id": "5f526b5b-8175-46fa-a0fd-441767d50e64",
   "metadata": {},
   "outputs": [
    {
     "data": {
      "text/html": [
       "<div>\n",
       "<style scoped>\n",
       "    .dataframe tbody tr th:only-of-type {\n",
       "        vertical-align: middle;\n",
       "    }\n",
       "\n",
       "    .dataframe tbody tr th {\n",
       "        vertical-align: top;\n",
       "    }\n",
       "\n",
       "    .dataframe thead th {\n",
       "        text-align: right;\n",
       "    }\n",
       "</style>\n",
       "<table border=\"1\" class=\"dataframe\">\n",
       "  <thead>\n",
       "    <tr style=\"text-align: right;\">\n",
       "      <th></th>\n",
       "      <th>product_id</th>\n",
       "      <th>product_name</th>\n",
       "      <th>aisle_id</th>\n",
       "      <th>department_id</th>\n",
       "    </tr>\n",
       "  </thead>\n",
       "  <tbody>\n",
       "  </tbody>\n",
       "</table>\n",
       "</div>"
      ],
      "text/plain": [
       "Empty DataFrame\n",
       "Columns: [product_id, product_name, aisle_id, department_id]\n",
       "Index: []"
      ]
     },
     "execution_count": 12,
     "metadata": {},
     "output_type": "execute_result"
    }
   ],
   "source": [
    "products[products.duplicated()]"
   ]
  },
  {
   "cell_type": "markdown",
   "id": "bdf10d5d",
   "metadata": {},
   "source": [
    "Since the above line of code displays an empty DataFrame, there are no obvious duplicates. More filtering needs to be done, however, because there might be some implicit duplicates."
   ]
  },
  {
   "cell_type": "markdown",
   "id": "fdcb8939",
   "metadata": {},
   "source": [
    "I wonder if there are any duplicate product IDs."
   ]
  },
  {
   "cell_type": "code",
   "execution_count": 13,
   "id": "88daa4f4",
   "metadata": {},
   "outputs": [
    {
     "data": {
      "text/html": [
       "<div>\n",
       "<style scoped>\n",
       "    .dataframe tbody tr th:only-of-type {\n",
       "        vertical-align: middle;\n",
       "    }\n",
       "\n",
       "    .dataframe tbody tr th {\n",
       "        vertical-align: top;\n",
       "    }\n",
       "\n",
       "    .dataframe thead th {\n",
       "        text-align: right;\n",
       "    }\n",
       "</style>\n",
       "<table border=\"1\" class=\"dataframe\">\n",
       "  <thead>\n",
       "    <tr style=\"text-align: right;\">\n",
       "      <th></th>\n",
       "      <th>product_id</th>\n",
       "      <th>product_name</th>\n",
       "      <th>aisle_id</th>\n",
       "      <th>department_id</th>\n",
       "    </tr>\n",
       "  </thead>\n",
       "  <tbody>\n",
       "  </tbody>\n",
       "</table>\n",
       "</div>"
      ],
      "text/plain": [
       "Empty DataFrame\n",
       "Columns: [product_id, product_name, aisle_id, department_id]\n",
       "Index: []"
      ]
     },
     "execution_count": 13,
     "metadata": {},
     "output_type": "execute_result"
    }
   ],
   "source": [
    "products[products.duplicated(subset = 'product_id')]"
   ]
  },
  {
   "cell_type": "markdown",
   "id": "409cdded",
   "metadata": {},
   "source": [
    "Since this DataFrame is empty, there are no implicit duplicates where the same product ID number is used more than once."
   ]
  },
  {
   "cell_type": "markdown",
   "id": "9b621782",
   "metadata": {},
   "source": [
    "Now let's check for duplicate product names. It makes sense to convert all of the product names to lowercase because it is possible that, for example, \"high performance energy drink\" appears in one row and \"High Performance Energy Drink\" appears in another row, which is problematic because the same product should not be mentioned in more than one row."
   ]
  },
  {
   "cell_type": "code",
   "execution_count": 14,
   "id": "c773f0bf",
   "metadata": {},
   "outputs": [
    {
     "data": {
      "text/html": [
       "<div>\n",
       "<style scoped>\n",
       "    .dataframe tbody tr th:only-of-type {\n",
       "        vertical-align: middle;\n",
       "    }\n",
       "\n",
       "    .dataframe tbody tr th {\n",
       "        vertical-align: top;\n",
       "    }\n",
       "\n",
       "    .dataframe thead th {\n",
       "        text-align: right;\n",
       "    }\n",
       "</style>\n",
       "<table border=\"1\" class=\"dataframe\">\n",
       "  <thead>\n",
       "    <tr style=\"text-align: right;\">\n",
       "      <th></th>\n",
       "      <th>product_id</th>\n",
       "      <th>product_name</th>\n",
       "      <th>aisle_id</th>\n",
       "      <th>department_id</th>\n",
       "    </tr>\n",
       "  </thead>\n",
       "  <tbody>\n",
       "    <tr>\n",
       "      <th>71</th>\n",
       "      <td>72</td>\n",
       "      <td>NaN</td>\n",
       "      <td>100</td>\n",
       "      <td>21</td>\n",
       "    </tr>\n",
       "    <tr>\n",
       "      <th>109</th>\n",
       "      <td>110</td>\n",
       "      <td>NaN</td>\n",
       "      <td>100</td>\n",
       "      <td>21</td>\n",
       "    </tr>\n",
       "    <tr>\n",
       "      <th>296</th>\n",
       "      <td>297</td>\n",
       "      <td>NaN</td>\n",
       "      <td>100</td>\n",
       "      <td>21</td>\n",
       "    </tr>\n",
       "    <tr>\n",
       "      <th>416</th>\n",
       "      <td>417</td>\n",
       "      <td>NaN</td>\n",
       "      <td>100</td>\n",
       "      <td>21</td>\n",
       "    </tr>\n",
       "    <tr>\n",
       "      <th>436</th>\n",
       "      <td>437</td>\n",
       "      <td>NaN</td>\n",
       "      <td>100</td>\n",
       "      <td>21</td>\n",
       "    </tr>\n",
       "    <tr>\n",
       "      <th>...</th>\n",
       "      <td>...</td>\n",
       "      <td>...</td>\n",
       "      <td>...</td>\n",
       "      <td>...</td>\n",
       "    </tr>\n",
       "    <tr>\n",
       "      <th>49689</th>\n",
       "      <td>49690</td>\n",
       "      <td>high performance energy drink</td>\n",
       "      <td>64</td>\n",
       "      <td>7</td>\n",
       "    </tr>\n",
       "    <tr>\n",
       "      <th>49690</th>\n",
       "      <td>49691</td>\n",
       "      <td>original pancake &amp; waffle mix</td>\n",
       "      <td>130</td>\n",
       "      <td>14</td>\n",
       "    </tr>\n",
       "    <tr>\n",
       "      <th>49691</th>\n",
       "      <td>49692</td>\n",
       "      <td>organic instant oatmeal light maple brown sugar</td>\n",
       "      <td>130</td>\n",
       "      <td>14</td>\n",
       "    </tr>\n",
       "    <tr>\n",
       "      <th>49692</th>\n",
       "      <td>49693</td>\n",
       "      <td>spring water body wash</td>\n",
       "      <td>127</td>\n",
       "      <td>11</td>\n",
       "    </tr>\n",
       "    <tr>\n",
       "      <th>49693</th>\n",
       "      <td>49694</td>\n",
       "      <td>burrito- steak &amp; cheese</td>\n",
       "      <td>38</td>\n",
       "      <td>1</td>\n",
       "    </tr>\n",
       "  </tbody>\n",
       "</table>\n",
       "<p>1361 rows × 4 columns</p>\n",
       "</div>"
      ],
      "text/plain": [
       "       product_id                                     product_name  aisle_id  \\\n",
       "71             72                                              NaN       100   \n",
       "109           110                                              NaN       100   \n",
       "296           297                                              NaN       100   \n",
       "416           417                                              NaN       100   \n",
       "436           437                                              NaN       100   \n",
       "...           ...                                              ...       ...   \n",
       "49689       49690                    high performance energy drink        64   \n",
       "49690       49691                    original pancake & waffle mix       130   \n",
       "49691       49692  organic instant oatmeal light maple brown sugar       130   \n",
       "49692       49693                           spring water body wash       127   \n",
       "49693       49694                          burrito- steak & cheese        38   \n",
       "\n",
       "       department_id  \n",
       "71                21  \n",
       "109               21  \n",
       "296               21  \n",
       "416               21  \n",
       "436               21  \n",
       "...              ...  \n",
       "49689              7  \n",
       "49690             14  \n",
       "49691             14  \n",
       "49692             11  \n",
       "49693              1  \n",
       "\n",
       "[1361 rows x 4 columns]"
      ]
     },
     "execution_count": 14,
     "metadata": {},
     "output_type": "execute_result"
    }
   ],
   "source": [
    "products['product_name'] = products['product_name'].str.lower()\n",
    "products[products.duplicated(subset = 'product_name')]"
   ]
  },
  {
   "cell_type": "markdown",
   "id": "c02c7f6f",
   "metadata": {},
   "source": [
    "The next line of code shows that there are 104 duplicated product names. These rows will <u>NOT</u> be dropped, however, because earlier I showed that none of the product ID numbers are duplicated, hence any duplicated product name almost certainly means that there are two or more brands of the same product."
   ]
  },
  {
   "cell_type": "code",
   "execution_count": 15,
   "id": "01efd02e",
   "metadata": {},
   "outputs": [
    {
     "data": {
      "text/html": [
       "<div>\n",
       "<style scoped>\n",
       "    .dataframe tbody tr th:only-of-type {\n",
       "        vertical-align: middle;\n",
       "    }\n",
       "\n",
       "    .dataframe tbody tr th {\n",
       "        vertical-align: top;\n",
       "    }\n",
       "\n",
       "    .dataframe thead th {\n",
       "        text-align: right;\n",
       "    }\n",
       "</style>\n",
       "<table border=\"1\" class=\"dataframe\">\n",
       "  <thead>\n",
       "    <tr style=\"text-align: right;\">\n",
       "      <th></th>\n",
       "      <th>product_id</th>\n",
       "      <th>product_name</th>\n",
       "      <th>aisle_id</th>\n",
       "      <th>department_id</th>\n",
       "    </tr>\n",
       "  </thead>\n",
       "  <tbody>\n",
       "    <tr>\n",
       "      <th>2058</th>\n",
       "      <td>2059</td>\n",
       "      <td>biotin 1000 mcg</td>\n",
       "      <td>47</td>\n",
       "      <td>11</td>\n",
       "    </tr>\n",
       "    <tr>\n",
       "      <th>5455</th>\n",
       "      <td>5456</td>\n",
       "      <td>green tea with ginseng and honey</td>\n",
       "      <td>96</td>\n",
       "      <td>20</td>\n",
       "    </tr>\n",
       "    <tr>\n",
       "      <th>5558</th>\n",
       "      <td>5559</td>\n",
       "      <td>cream of mushroom soup</td>\n",
       "      <td>69</td>\n",
       "      <td>15</td>\n",
       "    </tr>\n",
       "    <tr>\n",
       "      <th>7558</th>\n",
       "      <td>7559</td>\n",
       "      <td>cinnamon rolls with icing</td>\n",
       "      <td>105</td>\n",
       "      <td>13</td>\n",
       "    </tr>\n",
       "    <tr>\n",
       "      <th>9037</th>\n",
       "      <td>9038</td>\n",
       "      <td>american cheese slices</td>\n",
       "      <td>21</td>\n",
       "      <td>16</td>\n",
       "    </tr>\n",
       "    <tr>\n",
       "      <th>...</th>\n",
       "      <td>...</td>\n",
       "      <td>...</td>\n",
       "      <td>...</td>\n",
       "      <td>...</td>\n",
       "    </tr>\n",
       "    <tr>\n",
       "      <th>49689</th>\n",
       "      <td>49690</td>\n",
       "      <td>high performance energy drink</td>\n",
       "      <td>64</td>\n",
       "      <td>7</td>\n",
       "    </tr>\n",
       "    <tr>\n",
       "      <th>49690</th>\n",
       "      <td>49691</td>\n",
       "      <td>original pancake &amp; waffle mix</td>\n",
       "      <td>130</td>\n",
       "      <td>14</td>\n",
       "    </tr>\n",
       "    <tr>\n",
       "      <th>49691</th>\n",
       "      <td>49692</td>\n",
       "      <td>organic instant oatmeal light maple brown sugar</td>\n",
       "      <td>130</td>\n",
       "      <td>14</td>\n",
       "    </tr>\n",
       "    <tr>\n",
       "      <th>49692</th>\n",
       "      <td>49693</td>\n",
       "      <td>spring water body wash</td>\n",
       "      <td>127</td>\n",
       "      <td>11</td>\n",
       "    </tr>\n",
       "    <tr>\n",
       "      <th>49693</th>\n",
       "      <td>49694</td>\n",
       "      <td>burrito- steak &amp; cheese</td>\n",
       "      <td>38</td>\n",
       "      <td>1</td>\n",
       "    </tr>\n",
       "  </tbody>\n",
       "</table>\n",
       "<p>104 rows × 4 columns</p>\n",
       "</div>"
      ],
      "text/plain": [
       "       product_id                                     product_name  aisle_id  \\\n",
       "2058         2059                                  biotin 1000 mcg        47   \n",
       "5455         5456                 green tea with ginseng and honey        96   \n",
       "5558         5559                           cream of mushroom soup        69   \n",
       "7558         7559                        cinnamon rolls with icing       105   \n",
       "9037         9038                           american cheese slices        21   \n",
       "...           ...                                              ...       ...   \n",
       "49689       49690                    high performance energy drink        64   \n",
       "49690       49691                    original pancake & waffle mix       130   \n",
       "49691       49692  organic instant oatmeal light maple brown sugar       130   \n",
       "49692       49693                           spring water body wash       127   \n",
       "49693       49694                          burrito- steak & cheese        38   \n",
       "\n",
       "       department_id  \n",
       "2058              11  \n",
       "5455              20  \n",
       "5558              15  \n",
       "7558              13  \n",
       "9037              16  \n",
       "...              ...  \n",
       "49689              7  \n",
       "49690             14  \n",
       "49691             14  \n",
       "49692             11  \n",
       "49693              1  \n",
       "\n",
       "[104 rows x 4 columns]"
      ]
     },
     "execution_count": 15,
     "metadata": {},
     "output_type": "execute_result"
    }
   ],
   "source": [
    "products[products.duplicated(subset = 'product_name')].dropna()"
   ]
  },
  {
   "cell_type": "markdown",
   "id": "60f30db1",
   "metadata": {},
   "source": [
    "`departments` **DataFrame**"
   ]
  },
  {
   "cell_type": "markdown",
   "id": "c5c4428d",
   "metadata": {},
   "source": [
    "Since the departments DataFrame has only 21 rows, it is reasonable to display the whole DataFrame and scan with my eyes to see if there are any duplicates. The department IDs are listed in ascending order, which makes it <u>VERY</u> easy to see that there are no duplicated department IDs."
   ]
  },
  {
   "cell_type": "code",
   "execution_count": 16,
   "id": "fb410ad4-0fbf-4b80-bb09-23fdea79afe3",
   "metadata": {},
   "outputs": [
    {
     "data": {
      "text/html": [
       "<div>\n",
       "<style scoped>\n",
       "    .dataframe tbody tr th:only-of-type {\n",
       "        vertical-align: middle;\n",
       "    }\n",
       "\n",
       "    .dataframe tbody tr th {\n",
       "        vertical-align: top;\n",
       "    }\n",
       "\n",
       "    .dataframe thead th {\n",
       "        text-align: right;\n",
       "    }\n",
       "</style>\n",
       "<table border=\"1\" class=\"dataframe\">\n",
       "  <thead>\n",
       "    <tr style=\"text-align: right;\">\n",
       "      <th></th>\n",
       "      <th>department_id</th>\n",
       "      <th>department</th>\n",
       "    </tr>\n",
       "  </thead>\n",
       "  <tbody>\n",
       "    <tr>\n",
       "      <th>0</th>\n",
       "      <td>1</td>\n",
       "      <td>frozen</td>\n",
       "    </tr>\n",
       "    <tr>\n",
       "      <th>1</th>\n",
       "      <td>2</td>\n",
       "      <td>other</td>\n",
       "    </tr>\n",
       "    <tr>\n",
       "      <th>2</th>\n",
       "      <td>3</td>\n",
       "      <td>bakery</td>\n",
       "    </tr>\n",
       "    <tr>\n",
       "      <th>3</th>\n",
       "      <td>4</td>\n",
       "      <td>produce</td>\n",
       "    </tr>\n",
       "    <tr>\n",
       "      <th>4</th>\n",
       "      <td>5</td>\n",
       "      <td>alcohol</td>\n",
       "    </tr>\n",
       "    <tr>\n",
       "      <th>5</th>\n",
       "      <td>6</td>\n",
       "      <td>international</td>\n",
       "    </tr>\n",
       "    <tr>\n",
       "      <th>6</th>\n",
       "      <td>7</td>\n",
       "      <td>beverages</td>\n",
       "    </tr>\n",
       "    <tr>\n",
       "      <th>7</th>\n",
       "      <td>8</td>\n",
       "      <td>pets</td>\n",
       "    </tr>\n",
       "    <tr>\n",
       "      <th>8</th>\n",
       "      <td>9</td>\n",
       "      <td>dry goods pasta</td>\n",
       "    </tr>\n",
       "    <tr>\n",
       "      <th>9</th>\n",
       "      <td>10</td>\n",
       "      <td>bulk</td>\n",
       "    </tr>\n",
       "    <tr>\n",
       "      <th>10</th>\n",
       "      <td>11</td>\n",
       "      <td>personal care</td>\n",
       "    </tr>\n",
       "    <tr>\n",
       "      <th>11</th>\n",
       "      <td>12</td>\n",
       "      <td>meat seafood</td>\n",
       "    </tr>\n",
       "    <tr>\n",
       "      <th>12</th>\n",
       "      <td>13</td>\n",
       "      <td>pantry</td>\n",
       "    </tr>\n",
       "    <tr>\n",
       "      <th>13</th>\n",
       "      <td>14</td>\n",
       "      <td>breakfast</td>\n",
       "    </tr>\n",
       "    <tr>\n",
       "      <th>14</th>\n",
       "      <td>15</td>\n",
       "      <td>canned goods</td>\n",
       "    </tr>\n",
       "    <tr>\n",
       "      <th>15</th>\n",
       "      <td>16</td>\n",
       "      <td>dairy eggs</td>\n",
       "    </tr>\n",
       "    <tr>\n",
       "      <th>16</th>\n",
       "      <td>17</td>\n",
       "      <td>household</td>\n",
       "    </tr>\n",
       "    <tr>\n",
       "      <th>17</th>\n",
       "      <td>18</td>\n",
       "      <td>babies</td>\n",
       "    </tr>\n",
       "    <tr>\n",
       "      <th>18</th>\n",
       "      <td>19</td>\n",
       "      <td>snacks</td>\n",
       "    </tr>\n",
       "    <tr>\n",
       "      <th>19</th>\n",
       "      <td>20</td>\n",
       "      <td>deli</td>\n",
       "    </tr>\n",
       "    <tr>\n",
       "      <th>20</th>\n",
       "      <td>21</td>\n",
       "      <td>missing</td>\n",
       "    </tr>\n",
       "  </tbody>\n",
       "</table>\n",
       "</div>"
      ],
      "text/plain": [
       "    department_id       department\n",
       "0               1           frozen\n",
       "1               2            other\n",
       "2               3           bakery\n",
       "3               4          produce\n",
       "4               5          alcohol\n",
       "5               6    international\n",
       "6               7        beverages\n",
       "7               8             pets\n",
       "8               9  dry goods pasta\n",
       "9              10             bulk\n",
       "10             11    personal care\n",
       "11             12     meat seafood\n",
       "12             13           pantry\n",
       "13             14        breakfast\n",
       "14             15     canned goods\n",
       "15             16       dairy eggs\n",
       "16             17        household\n",
       "17             18           babies\n",
       "18             19           snacks\n",
       "19             20             deli\n",
       "20             21          missing"
      ]
     },
     "execution_count": 16,
     "metadata": {},
     "output_type": "execute_result"
    }
   ],
   "source": [
    "departments"
   ]
  },
  {
   "cell_type": "markdown",
   "id": "f6e3c1dc",
   "metadata": {},
   "source": [
    "The following line sorts the department names in alphabetical order, thereby making it <u>VERY</u> easy to see that none of the department names are duplicated."
   ]
  },
  {
   "cell_type": "code",
   "execution_count": 17,
   "id": "1c791c26",
   "metadata": {},
   "outputs": [
    {
     "data": {
      "text/html": [
       "<div>\n",
       "<style scoped>\n",
       "    .dataframe tbody tr th:only-of-type {\n",
       "        vertical-align: middle;\n",
       "    }\n",
       "\n",
       "    .dataframe tbody tr th {\n",
       "        vertical-align: top;\n",
       "    }\n",
       "\n",
       "    .dataframe thead th {\n",
       "        text-align: right;\n",
       "    }\n",
       "</style>\n",
       "<table border=\"1\" class=\"dataframe\">\n",
       "  <thead>\n",
       "    <tr style=\"text-align: right;\">\n",
       "      <th></th>\n",
       "      <th>department_id</th>\n",
       "      <th>department</th>\n",
       "    </tr>\n",
       "  </thead>\n",
       "  <tbody>\n",
       "    <tr>\n",
       "      <th>4</th>\n",
       "      <td>5</td>\n",
       "      <td>alcohol</td>\n",
       "    </tr>\n",
       "    <tr>\n",
       "      <th>17</th>\n",
       "      <td>18</td>\n",
       "      <td>babies</td>\n",
       "    </tr>\n",
       "    <tr>\n",
       "      <th>2</th>\n",
       "      <td>3</td>\n",
       "      <td>bakery</td>\n",
       "    </tr>\n",
       "    <tr>\n",
       "      <th>6</th>\n",
       "      <td>7</td>\n",
       "      <td>beverages</td>\n",
       "    </tr>\n",
       "    <tr>\n",
       "      <th>13</th>\n",
       "      <td>14</td>\n",
       "      <td>breakfast</td>\n",
       "    </tr>\n",
       "    <tr>\n",
       "      <th>9</th>\n",
       "      <td>10</td>\n",
       "      <td>bulk</td>\n",
       "    </tr>\n",
       "    <tr>\n",
       "      <th>14</th>\n",
       "      <td>15</td>\n",
       "      <td>canned goods</td>\n",
       "    </tr>\n",
       "    <tr>\n",
       "      <th>15</th>\n",
       "      <td>16</td>\n",
       "      <td>dairy eggs</td>\n",
       "    </tr>\n",
       "    <tr>\n",
       "      <th>19</th>\n",
       "      <td>20</td>\n",
       "      <td>deli</td>\n",
       "    </tr>\n",
       "    <tr>\n",
       "      <th>8</th>\n",
       "      <td>9</td>\n",
       "      <td>dry goods pasta</td>\n",
       "    </tr>\n",
       "    <tr>\n",
       "      <th>0</th>\n",
       "      <td>1</td>\n",
       "      <td>frozen</td>\n",
       "    </tr>\n",
       "    <tr>\n",
       "      <th>16</th>\n",
       "      <td>17</td>\n",
       "      <td>household</td>\n",
       "    </tr>\n",
       "    <tr>\n",
       "      <th>5</th>\n",
       "      <td>6</td>\n",
       "      <td>international</td>\n",
       "    </tr>\n",
       "    <tr>\n",
       "      <th>11</th>\n",
       "      <td>12</td>\n",
       "      <td>meat seafood</td>\n",
       "    </tr>\n",
       "    <tr>\n",
       "      <th>20</th>\n",
       "      <td>21</td>\n",
       "      <td>missing</td>\n",
       "    </tr>\n",
       "    <tr>\n",
       "      <th>1</th>\n",
       "      <td>2</td>\n",
       "      <td>other</td>\n",
       "    </tr>\n",
       "    <tr>\n",
       "      <th>12</th>\n",
       "      <td>13</td>\n",
       "      <td>pantry</td>\n",
       "    </tr>\n",
       "    <tr>\n",
       "      <th>10</th>\n",
       "      <td>11</td>\n",
       "      <td>personal care</td>\n",
       "    </tr>\n",
       "    <tr>\n",
       "      <th>7</th>\n",
       "      <td>8</td>\n",
       "      <td>pets</td>\n",
       "    </tr>\n",
       "    <tr>\n",
       "      <th>3</th>\n",
       "      <td>4</td>\n",
       "      <td>produce</td>\n",
       "    </tr>\n",
       "    <tr>\n",
       "      <th>18</th>\n",
       "      <td>19</td>\n",
       "      <td>snacks</td>\n",
       "    </tr>\n",
       "  </tbody>\n",
       "</table>\n",
       "</div>"
      ],
      "text/plain": [
       "    department_id       department\n",
       "4               5          alcohol\n",
       "17             18           babies\n",
       "2               3           bakery\n",
       "6               7        beverages\n",
       "13             14        breakfast\n",
       "9              10             bulk\n",
       "14             15     canned goods\n",
       "15             16       dairy eggs\n",
       "19             20             deli\n",
       "8               9  dry goods pasta\n",
       "0               1           frozen\n",
       "16             17        household\n",
       "5               6    international\n",
       "11             12     meat seafood\n",
       "20             21          missing\n",
       "1               2            other\n",
       "12             13           pantry\n",
       "10             11    personal care\n",
       "7               8             pets\n",
       "3               4          produce\n",
       "18             19           snacks"
      ]
     },
     "execution_count": 17,
     "metadata": {},
     "output_type": "execute_result"
    }
   ],
   "source": [
    "departments.sort_values('department')"
   ]
  },
  {
   "cell_type": "markdown",
   "id": "889349c1",
   "metadata": {},
   "source": [
    "`aisles` **DataFrame**"
   ]
  },
  {
   "cell_type": "markdown",
   "id": "a2c6306c",
   "metadata": {},
   "source": [
    "The following line confirms that none of the aisle ID numbers are duplicated."
   ]
  },
  {
   "cell_type": "code",
   "execution_count": 18,
   "id": "9da89fb9-4679-40f5-ad0d-c34df753a3f8",
   "metadata": {},
   "outputs": [
    {
     "data": {
      "text/html": [
       "<div>\n",
       "<style scoped>\n",
       "    .dataframe tbody tr th:only-of-type {\n",
       "        vertical-align: middle;\n",
       "    }\n",
       "\n",
       "    .dataframe tbody tr th {\n",
       "        vertical-align: top;\n",
       "    }\n",
       "\n",
       "    .dataframe thead th {\n",
       "        text-align: right;\n",
       "    }\n",
       "</style>\n",
       "<table border=\"1\" class=\"dataframe\">\n",
       "  <thead>\n",
       "    <tr style=\"text-align: right;\">\n",
       "      <th></th>\n",
       "      <th>aisle_id</th>\n",
       "      <th>aisle</th>\n",
       "    </tr>\n",
       "  </thead>\n",
       "  <tbody>\n",
       "  </tbody>\n",
       "</table>\n",
       "</div>"
      ],
      "text/plain": [
       "Empty DataFrame\n",
       "Columns: [aisle_id, aisle]\n",
       "Index: []"
      ]
     },
     "execution_count": 18,
     "metadata": {},
     "output_type": "execute_result"
    }
   ],
   "source": [
    "aisles[aisles.duplicated(subset = 'aisle_id')]"
   ]
  },
  {
   "cell_type": "markdown",
   "id": "d3272d4e",
   "metadata": {},
   "source": [
    "The following line confirms that none of the aisle names are duplicated."
   ]
  },
  {
   "cell_type": "code",
   "execution_count": 19,
   "id": "da7c2822",
   "metadata": {},
   "outputs": [
    {
     "data": {
      "text/html": [
       "<div>\n",
       "<style scoped>\n",
       "    .dataframe tbody tr th:only-of-type {\n",
       "        vertical-align: middle;\n",
       "    }\n",
       "\n",
       "    .dataframe tbody tr th {\n",
       "        vertical-align: top;\n",
       "    }\n",
       "\n",
       "    .dataframe thead th {\n",
       "        text-align: right;\n",
       "    }\n",
       "</style>\n",
       "<table border=\"1\" class=\"dataframe\">\n",
       "  <thead>\n",
       "    <tr style=\"text-align: right;\">\n",
       "      <th></th>\n",
       "      <th>aisle_id</th>\n",
       "      <th>aisle</th>\n",
       "    </tr>\n",
       "  </thead>\n",
       "  <tbody>\n",
       "  </tbody>\n",
       "</table>\n",
       "</div>"
      ],
      "text/plain": [
       "Empty DataFrame\n",
       "Columns: [aisle_id, aisle]\n",
       "Index: []"
      ]
     },
     "execution_count": 19,
     "metadata": {},
     "output_type": "execute_result"
    }
   ],
   "source": [
    "aisles['aisle'] = aisles['aisle'].str.lower()\n",
    "aisles[aisles.duplicated(subset = 'aisle')]"
   ]
  },
  {
   "cell_type": "markdown",
   "id": "274cd06a",
   "metadata": {},
   "source": [
    "`order_products` **DataFrame**"
   ]
  },
  {
   "cell_type": "markdown",
   "id": "a862e2e5",
   "metadata": {},
   "source": [
    "The following line confirms that this dataframe has no exact duplicate rows."
   ]
  },
  {
   "cell_type": "code",
   "execution_count": 20,
   "id": "52326689-84a8-4b8f-a881-7c68780f62c9",
   "metadata": {},
   "outputs": [
    {
     "data": {
      "text/html": [
       "<div>\n",
       "<style scoped>\n",
       "    .dataframe tbody tr th:only-of-type {\n",
       "        vertical-align: middle;\n",
       "    }\n",
       "\n",
       "    .dataframe tbody tr th {\n",
       "        vertical-align: top;\n",
       "    }\n",
       "\n",
       "    .dataframe thead th {\n",
       "        text-align: right;\n",
       "    }\n",
       "</style>\n",
       "<table border=\"1\" class=\"dataframe\">\n",
       "  <thead>\n",
       "    <tr style=\"text-align: right;\">\n",
       "      <th></th>\n",
       "      <th>order_id</th>\n",
       "      <th>product_id</th>\n",
       "      <th>add_to_cart_order</th>\n",
       "      <th>reordered</th>\n",
       "    </tr>\n",
       "  </thead>\n",
       "  <tbody>\n",
       "  </tbody>\n",
       "</table>\n",
       "</div>"
      ],
      "text/plain": [
       "Empty DataFrame\n",
       "Columns: [order_id, product_id, add_to_cart_order, reordered]\n",
       "Index: []"
      ]
     },
     "execution_count": 20,
     "metadata": {},
     "output_type": "execute_result"
    }
   ],
   "source": [
    "order_products[order_products.duplicated()]"
   ]
  },
  {
   "cell_type": "markdown",
   "id": "f4e0b1f8",
   "metadata": {},
   "source": [
    "I wonder if there are any \"tricky\" duplicates.\n",
    "\n",
    "It would not make sense to search for only duplicated order IDs because it is possible that within the same order multiple products were purchased, and hence two or more rows with the same order ID will probably have different product IDs, meaning such rows are <u>NOT</u> duplicates.\n",
    "\n",
    "It also would not make sense to search for duplicated product IDs because the same product might appear in multiple rows with distinctly different order IDs. However, it does make sense to search for \"tricky\" duplicates by trying to find rows where the order ID <u>AND</u> the product ID are duplicated.\n",
    "\n",
    "The next line of code displays an empty DataFrame, so I find no evidence that there exist any \"tricky\" duplicates in **order_products**."
   ]
  },
  {
   "cell_type": "code",
   "execution_count": 21,
   "id": "7b861391",
   "metadata": {},
   "outputs": [
    {
     "data": {
      "text/html": [
       "<div>\n",
       "<style scoped>\n",
       "    .dataframe tbody tr th:only-of-type {\n",
       "        vertical-align: middle;\n",
       "    }\n",
       "\n",
       "    .dataframe tbody tr th {\n",
       "        vertical-align: top;\n",
       "    }\n",
       "\n",
       "    .dataframe thead th {\n",
       "        text-align: right;\n",
       "    }\n",
       "</style>\n",
       "<table border=\"1\" class=\"dataframe\">\n",
       "  <thead>\n",
       "    <tr style=\"text-align: right;\">\n",
       "      <th></th>\n",
       "      <th>order_id</th>\n",
       "      <th>product_id</th>\n",
       "      <th>add_to_cart_order</th>\n",
       "      <th>reordered</th>\n",
       "    </tr>\n",
       "  </thead>\n",
       "  <tbody>\n",
       "  </tbody>\n",
       "</table>\n",
       "</div>"
      ],
      "text/plain": [
       "Empty DataFrame\n",
       "Columns: [order_id, product_id, add_to_cart_order, reordered]\n",
       "Index: []"
      ]
     },
     "execution_count": 21,
     "metadata": {},
     "output_type": "execute_result"
    }
   ],
   "source": [
    "order_products[order_products.duplicated(subset = ['order_id', 'product_id'])]"
   ]
  },
  {
   "cell_type": "markdown",
   "id": "1e46de76",
   "metadata": {},
   "source": [
    "# Find and remove missing values <a id = 3></a>"
   ]
  },
  {
   "cell_type": "markdown",
   "id": "c0aebd78",
   "metadata": {},
   "source": [
    "`products` **DataFrame**"
   ]
  },
  {
   "cell_type": "markdown",
   "id": "6c5867ef",
   "metadata": {},
   "source": [
    "Are all of the missing product names associated with aisle ID 100?\n",
    "\n",
    "To help me answer the above question, I first display the rows of the DataFrame with null values. It turns out there are 1258 such rows in the DataFrame, which makes sense because using info() in the beginning revealed that there are 49694 rows in the DataFrame in total, and **product_name** is the only column with missing values, specifically 49694 – 48436 = 1258 of them."
   ]
  },
  {
   "cell_type": "code",
   "execution_count": 22,
   "id": "e96167bc",
   "metadata": {},
   "outputs": [
    {
     "data": {
      "text/html": [
       "<div>\n",
       "<style scoped>\n",
       "    .dataframe tbody tr th:only-of-type {\n",
       "        vertical-align: middle;\n",
       "    }\n",
       "\n",
       "    .dataframe tbody tr th {\n",
       "        vertical-align: top;\n",
       "    }\n",
       "\n",
       "    .dataframe thead th {\n",
       "        text-align: right;\n",
       "    }\n",
       "</style>\n",
       "<table border=\"1\" class=\"dataframe\">\n",
       "  <thead>\n",
       "    <tr style=\"text-align: right;\">\n",
       "      <th></th>\n",
       "      <th>product_id</th>\n",
       "      <th>product_name</th>\n",
       "      <th>aisle_id</th>\n",
       "      <th>department_id</th>\n",
       "    </tr>\n",
       "  </thead>\n",
       "  <tbody>\n",
       "    <tr>\n",
       "      <th>37</th>\n",
       "      <td>38</td>\n",
       "      <td>NaN</td>\n",
       "      <td>100</td>\n",
       "      <td>21</td>\n",
       "    </tr>\n",
       "    <tr>\n",
       "      <th>71</th>\n",
       "      <td>72</td>\n",
       "      <td>NaN</td>\n",
       "      <td>100</td>\n",
       "      <td>21</td>\n",
       "    </tr>\n",
       "    <tr>\n",
       "      <th>109</th>\n",
       "      <td>110</td>\n",
       "      <td>NaN</td>\n",
       "      <td>100</td>\n",
       "      <td>21</td>\n",
       "    </tr>\n",
       "    <tr>\n",
       "      <th>296</th>\n",
       "      <td>297</td>\n",
       "      <td>NaN</td>\n",
       "      <td>100</td>\n",
       "      <td>21</td>\n",
       "    </tr>\n",
       "    <tr>\n",
       "      <th>416</th>\n",
       "      <td>417</td>\n",
       "      <td>NaN</td>\n",
       "      <td>100</td>\n",
       "      <td>21</td>\n",
       "    </tr>\n",
       "    <tr>\n",
       "      <th>...</th>\n",
       "      <td>...</td>\n",
       "      <td>...</td>\n",
       "      <td>...</td>\n",
       "      <td>...</td>\n",
       "    </tr>\n",
       "    <tr>\n",
       "      <th>49552</th>\n",
       "      <td>49553</td>\n",
       "      <td>NaN</td>\n",
       "      <td>100</td>\n",
       "      <td>21</td>\n",
       "    </tr>\n",
       "    <tr>\n",
       "      <th>49574</th>\n",
       "      <td>49575</td>\n",
       "      <td>NaN</td>\n",
       "      <td>100</td>\n",
       "      <td>21</td>\n",
       "    </tr>\n",
       "    <tr>\n",
       "      <th>49640</th>\n",
       "      <td>49641</td>\n",
       "      <td>NaN</td>\n",
       "      <td>100</td>\n",
       "      <td>21</td>\n",
       "    </tr>\n",
       "    <tr>\n",
       "      <th>49663</th>\n",
       "      <td>49664</td>\n",
       "      <td>NaN</td>\n",
       "      <td>100</td>\n",
       "      <td>21</td>\n",
       "    </tr>\n",
       "    <tr>\n",
       "      <th>49668</th>\n",
       "      <td>49669</td>\n",
       "      <td>NaN</td>\n",
       "      <td>100</td>\n",
       "      <td>21</td>\n",
       "    </tr>\n",
       "  </tbody>\n",
       "</table>\n",
       "<p>1258 rows × 4 columns</p>\n",
       "</div>"
      ],
      "text/plain": [
       "       product_id product_name  aisle_id  department_id\n",
       "37             38          NaN       100             21\n",
       "71             72          NaN       100             21\n",
       "109           110          NaN       100             21\n",
       "296           297          NaN       100             21\n",
       "416           417          NaN       100             21\n",
       "...           ...          ...       ...            ...\n",
       "49552       49553          NaN       100             21\n",
       "49574       49575          NaN       100             21\n",
       "49640       49641          NaN       100             21\n",
       "49663       49664          NaN       100             21\n",
       "49668       49669          NaN       100             21\n",
       "\n",
       "[1258 rows x 4 columns]"
      ]
     },
     "metadata": {},
     "output_type": "display_data"
    }
   ],
   "source": [
    "null_product_name = products[(products['product_name'].isnull())]\n",
    "display(null_product_name)"
   ]
  },
  {
   "cell_type": "markdown",
   "id": "affdcb16",
   "metadata": {},
   "source": [
    "Next, I display the DataFrame below which is filtered to find the rows with null values <u>AND</u> an aisle ID of 100. Just like the filtered DataFrame from above, this other filtered DataFrame has 1258 rows, which is only possible if the two DataFrames are actually the same."
   ]
  },
  {
   "cell_type": "code",
   "execution_count": 23,
   "id": "935895a8",
   "metadata": {},
   "outputs": [
    {
     "data": {
      "text/html": [
       "<div>\n",
       "<style scoped>\n",
       "    .dataframe tbody tr th:only-of-type {\n",
       "        vertical-align: middle;\n",
       "    }\n",
       "\n",
       "    .dataframe tbody tr th {\n",
       "        vertical-align: top;\n",
       "    }\n",
       "\n",
       "    .dataframe thead th {\n",
       "        text-align: right;\n",
       "    }\n",
       "</style>\n",
       "<table border=\"1\" class=\"dataframe\">\n",
       "  <thead>\n",
       "    <tr style=\"text-align: right;\">\n",
       "      <th></th>\n",
       "      <th>product_id</th>\n",
       "      <th>product_name</th>\n",
       "      <th>aisle_id</th>\n",
       "      <th>department_id</th>\n",
       "    </tr>\n",
       "  </thead>\n",
       "  <tbody>\n",
       "    <tr>\n",
       "      <th>37</th>\n",
       "      <td>38</td>\n",
       "      <td>NaN</td>\n",
       "      <td>100</td>\n",
       "      <td>21</td>\n",
       "    </tr>\n",
       "    <tr>\n",
       "      <th>71</th>\n",
       "      <td>72</td>\n",
       "      <td>NaN</td>\n",
       "      <td>100</td>\n",
       "      <td>21</td>\n",
       "    </tr>\n",
       "    <tr>\n",
       "      <th>109</th>\n",
       "      <td>110</td>\n",
       "      <td>NaN</td>\n",
       "      <td>100</td>\n",
       "      <td>21</td>\n",
       "    </tr>\n",
       "    <tr>\n",
       "      <th>296</th>\n",
       "      <td>297</td>\n",
       "      <td>NaN</td>\n",
       "      <td>100</td>\n",
       "      <td>21</td>\n",
       "    </tr>\n",
       "    <tr>\n",
       "      <th>416</th>\n",
       "      <td>417</td>\n",
       "      <td>NaN</td>\n",
       "      <td>100</td>\n",
       "      <td>21</td>\n",
       "    </tr>\n",
       "    <tr>\n",
       "      <th>...</th>\n",
       "      <td>...</td>\n",
       "      <td>...</td>\n",
       "      <td>...</td>\n",
       "      <td>...</td>\n",
       "    </tr>\n",
       "    <tr>\n",
       "      <th>49552</th>\n",
       "      <td>49553</td>\n",
       "      <td>NaN</td>\n",
       "      <td>100</td>\n",
       "      <td>21</td>\n",
       "    </tr>\n",
       "    <tr>\n",
       "      <th>49574</th>\n",
       "      <td>49575</td>\n",
       "      <td>NaN</td>\n",
       "      <td>100</td>\n",
       "      <td>21</td>\n",
       "    </tr>\n",
       "    <tr>\n",
       "      <th>49640</th>\n",
       "      <td>49641</td>\n",
       "      <td>NaN</td>\n",
       "      <td>100</td>\n",
       "      <td>21</td>\n",
       "    </tr>\n",
       "    <tr>\n",
       "      <th>49663</th>\n",
       "      <td>49664</td>\n",
       "      <td>NaN</td>\n",
       "      <td>100</td>\n",
       "      <td>21</td>\n",
       "    </tr>\n",
       "    <tr>\n",
       "      <th>49668</th>\n",
       "      <td>49669</td>\n",
       "      <td>NaN</td>\n",
       "      <td>100</td>\n",
       "      <td>21</td>\n",
       "    </tr>\n",
       "  </tbody>\n",
       "</table>\n",
       "<p>1258 rows × 4 columns</p>\n",
       "</div>"
      ],
      "text/plain": [
       "       product_id product_name  aisle_id  department_id\n",
       "37             38          NaN       100             21\n",
       "71             72          NaN       100             21\n",
       "109           110          NaN       100             21\n",
       "296           297          NaN       100             21\n",
       "416           417          NaN       100             21\n",
       "...           ...          ...       ...            ...\n",
       "49552       49553          NaN       100             21\n",
       "49574       49575          NaN       100             21\n",
       "49640       49641          NaN       100             21\n",
       "49663       49664          NaN       100             21\n",
       "49668       49669          NaN       100             21\n",
       "\n",
       "[1258 rows x 4 columns]"
      ]
     },
     "metadata": {},
     "output_type": "display_data"
    }
   ],
   "source": [
    "aisle_id_100_and_null_product_name = products[(products['aisle_id'] == 100) & (products['product_name'].isnull())]\n",
    "display(aisle_id_100_and_null_product_name)"
   ]
  },
  {
   "cell_type": "markdown",
   "id": "4c101d20",
   "metadata": {},
   "source": [
    "<b>ANSWER:</b> Yes, it must be true that all of the missing product names are associated with aisle ID 100!"
   ]
  },
  {
   "cell_type": "markdown",
   "id": "f6fd7806",
   "metadata": {},
   "source": [
    "The following line isn't required, but I think it is a nice alternative way to verify that the two DataFrames made above are equal."
   ]
  },
  {
   "cell_type": "code",
   "execution_count": 24,
   "id": "0f69b2d8",
   "metadata": {},
   "outputs": [
    {
     "name": "stdout",
     "output_type": "stream",
     "text": [
      "True\n"
     ]
    }
   ],
   "source": [
    "print(null_product_name.equals(aisle_id_100_and_null_product_name))"
   ]
  },
  {
   "cell_type": "markdown",
   "id": "2e5942bb",
   "metadata": {},
   "source": [
    "Are all of the missing product names associated with department ID 21?"
   ]
  },
  {
   "cell_type": "code",
   "execution_count": 25,
   "id": "8fd0a541",
   "metadata": {},
   "outputs": [
    {
     "data": {
      "text/plain": [
       "True"
      ]
     },
     "execution_count": 25,
     "metadata": {},
     "output_type": "execute_result"
    }
   ],
   "source": [
    "aisle_id_100_and_null_product_name.equals(products[(products['department_id'] == 21)])"
   ]
  },
  {
   "cell_type": "markdown",
   "id": "6d679e41",
   "metadata": {},
   "source": [
    "<b>ANSWER:</b> Since the line of code above outputs \"True\", then the answer is <u>YES</u>, all of the missing product names are associated with department ID 21."
   ]
  },
  {
   "cell_type": "markdown",
   "id": "e4ff0c5e",
   "metadata": {},
   "source": [
    "What is this ailse and department?"
   ]
  },
  {
   "cell_type": "code",
   "execution_count": 26,
   "id": "325c3464",
   "metadata": {},
   "outputs": [
    {
     "data": {
      "text/html": [
       "<div>\n",
       "<style scoped>\n",
       "    .dataframe tbody tr th:only-of-type {\n",
       "        vertical-align: middle;\n",
       "    }\n",
       "\n",
       "    .dataframe tbody tr th {\n",
       "        vertical-align: top;\n",
       "    }\n",
       "\n",
       "    .dataframe thead th {\n",
       "        text-align: right;\n",
       "    }\n",
       "</style>\n",
       "<table border=\"1\" class=\"dataframe\">\n",
       "  <thead>\n",
       "    <tr style=\"text-align: right;\">\n",
       "      <th></th>\n",
       "      <th>aisle_id</th>\n",
       "      <th>aisle</th>\n",
       "    </tr>\n",
       "  </thead>\n",
       "  <tbody>\n",
       "    <tr>\n",
       "      <th>99</th>\n",
       "      <td>100</td>\n",
       "      <td>missing</td>\n",
       "    </tr>\n",
       "  </tbody>\n",
       "</table>\n",
       "</div>"
      ],
      "text/plain": [
       "    aisle_id    aisle\n",
       "99       100  missing"
      ]
     },
     "metadata": {},
     "output_type": "display_data"
    },
    {
     "data": {
      "text/html": [
       "<div>\n",
       "<style scoped>\n",
       "    .dataframe tbody tr th:only-of-type {\n",
       "        vertical-align: middle;\n",
       "    }\n",
       "\n",
       "    .dataframe tbody tr th {\n",
       "        vertical-align: top;\n",
       "    }\n",
       "\n",
       "    .dataframe thead th {\n",
       "        text-align: right;\n",
       "    }\n",
       "</style>\n",
       "<table border=\"1\" class=\"dataframe\">\n",
       "  <thead>\n",
       "    <tr style=\"text-align: right;\">\n",
       "      <th></th>\n",
       "      <th>department_id</th>\n",
       "      <th>department</th>\n",
       "    </tr>\n",
       "  </thead>\n",
       "  <tbody>\n",
       "    <tr>\n",
       "      <th>20</th>\n",
       "      <td>21</td>\n",
       "      <td>missing</td>\n",
       "    </tr>\n",
       "  </tbody>\n",
       "</table>\n",
       "</div>"
      ],
      "text/plain": [
       "    department_id department\n",
       "20             21    missing"
      ]
     },
     "metadata": {},
     "output_type": "display_data"
    }
   ],
   "source": [
    "display(aisles[aisles['aisle_id'] == 100])\n",
    "display(departments[departments['department_id'] == 21])"
   ]
  },
  {
   "cell_type": "markdown",
   "id": "5b560ec6",
   "metadata": {},
   "source": [
    "<b>ANSWER:</b> Both the aisle and department are named \"missing\"."
   ]
  },
  {
   "cell_type": "markdown",
   "id": "ad8c8e86",
   "metadata": {},
   "source": [
    "Let's fill the missing product names with 'Unknown'."
   ]
  },
  {
   "cell_type": "code",
   "execution_count": 27,
   "id": "6b295120",
   "metadata": {},
   "outputs": [
    {
     "name": "stdout",
     "output_type": "stream",
     "text": [
      "<class 'pandas.core.frame.DataFrame'>\n",
      "RangeIndex: 49694 entries, 0 to 49693\n",
      "Data columns (total 4 columns):\n",
      " #   Column         Non-Null Count  Dtype \n",
      "---  ------         --------------  ----- \n",
      " 0   product_id     49694 non-null  int64 \n",
      " 1   product_name   49694 non-null  object\n",
      " 2   aisle_id       49694 non-null  int64 \n",
      " 3   department_id  49694 non-null  int64 \n",
      "dtypes: int64(3), object(1)\n",
      "memory usage: 1.5+ MB\n"
     ]
    }
   ],
   "source": [
    "products['product_name'] = products['product_name'].fillna('Unknown')\n",
    "products.info()"
   ]
  },
  {
   "cell_type": "markdown",
   "id": "0c4c608c",
   "metadata": {},
   "source": [
    "Unlike in the beginning, if I call info() on **products** now, I can see that the column **product_name** no longer has any missing values."
   ]
  },
  {
   "cell_type": "markdown",
   "id": "7eb45c86",
   "metadata": {},
   "source": [
    "`instacart_orders` **DataFrame**"
   ]
  },
  {
   "cell_type": "markdown",
   "id": "0d04c498",
   "metadata": {},
   "source": [
    "Are there any missing values where it's not a customer's first order?"
   ]
  },
  {
   "cell_type": "code",
   "execution_count": 28,
   "id": "166e5a86",
   "metadata": {},
   "outputs": [
    {
     "data": {
      "text/html": [
       "<div>\n",
       "<style scoped>\n",
       "    .dataframe tbody tr th:only-of-type {\n",
       "        vertical-align: middle;\n",
       "    }\n",
       "\n",
       "    .dataframe tbody tr th {\n",
       "        vertical-align: top;\n",
       "    }\n",
       "\n",
       "    .dataframe thead th {\n",
       "        text-align: right;\n",
       "    }\n",
       "</style>\n",
       "<table border=\"1\" class=\"dataframe\">\n",
       "  <thead>\n",
       "    <tr style=\"text-align: right;\">\n",
       "      <th></th>\n",
       "      <th>index</th>\n",
       "      <th>order_id</th>\n",
       "      <th>user_id</th>\n",
       "      <th>order_number</th>\n",
       "      <th>order_dow</th>\n",
       "      <th>order_hour_of_day</th>\n",
       "      <th>days_since_prior_order</th>\n",
       "    </tr>\n",
       "  </thead>\n",
       "  <tbody>\n",
       "  </tbody>\n",
       "</table>\n",
       "</div>"
      ],
      "text/plain": [
       "Empty DataFrame\n",
       "Columns: [index, order_id, user_id, order_number, order_dow, order_hour_of_day, days_since_prior_order]\n",
       "Index: []"
      ]
     },
     "execution_count": 28,
     "metadata": {},
     "output_type": "execute_result"
    }
   ],
   "source": [
    "instacart_orders[(instacart_orders['days_since_prior_order'].isna()) & (instacart_orders['order_number'] != 1)]"
   ]
  },
  {
   "cell_type": "markdown",
   "id": "16dcfc13",
   "metadata": {},
   "source": [
    "**ANSWER:** Since the above code displays an empty DataFrame, that means the answer is <u>NO</u>, there are no missing **days_since_prior_order** values where it's not the customer's first order."
   ]
  },
  {
   "cell_type": "markdown",
   "id": "69dc9ca4",
   "metadata": {},
   "source": [
    "`order_products` **DataFrame**"
   ]
  },
  {
   "cell_type": "markdown",
   "id": "aa6a0de7",
   "metadata": {},
   "source": [
    "What are the min and max values in this column?"
   ]
  },
  {
   "cell_type": "code",
   "execution_count": 29,
   "id": "9a78e5ee",
   "metadata": {},
   "outputs": [
    {
     "data": {
      "text/plain": [
       "count    4.544171e+06\n",
       "mean     8.351669e+00\n",
       "std      7.080368e+00\n",
       "min      1.000000e+00\n",
       "25%      3.000000e+00\n",
       "50%      6.000000e+00\n",
       "75%      1.100000e+01\n",
       "max      6.400000e+01\n",
       "Name: add_to_cart_order, dtype: float64"
      ]
     },
     "execution_count": 29,
     "metadata": {},
     "output_type": "execute_result"
    }
   ],
   "source": [
    "order_products['add_to_cart_order'].describe()"
   ]
  },
  {
   "cell_type": "markdown",
   "id": "b0654e4d",
   "metadata": {},
   "source": [
    "**ANSWER:** The minimum value of the 'add_to_cart_order' column is 1, whereas the maximum is 64."
   ]
  },
  {
   "cell_type": "markdown",
   "id": "5f87949f",
   "metadata": {},
   "source": [
    "Save all the order IDs with at least one missing value in **add_to_cart_order** column in a new dataframe."
   ]
  },
  {
   "cell_type": "code",
   "execution_count": 30,
   "id": "ca7d379a",
   "metadata": {},
   "outputs": [],
   "source": [
    "ids = order_products[order_products['add_to_cart_order'].isna()]['order_id'].unique()"
   ]
  },
  {
   "cell_type": "markdown",
   "id": "369247ef",
   "metadata": {},
   "source": [
    "Do all orders with missing values have more than 64 products?"
   ]
  },
  {
   "cell_type": "code",
   "execution_count": 31,
   "id": "ff39cc94",
   "metadata": {
    "scrolled": true
   },
   "outputs": [
    {
     "data": {
      "text/plain": [
       "order_id\n",
       "9310        65\n",
       "61355      127\n",
       "102236      95\n",
       "129627      69\n",
       "165801      70\n",
       "          ... \n",
       "2999801     70\n",
       "3125735     86\n",
       "3308010    115\n",
       "3347453     71\n",
       "3383594     69\n",
       "Name: number_of_products, Length: 70, dtype: int64"
      ]
     },
     "metadata": {},
     "output_type": "display_data"
    }
   ],
   "source": [
    "order_products_filtered_by_ids = order_products[order_products['order_id'].isin(ids)]\n",
    "\n",
    "product_count = order_products_filtered_by_ids.groupby('order_id').count()\n",
    "\n",
    "product_count = product_count.rename(columns = {'product_id': 'number_of_products'})\n",
    "\n",
    "display(product_count['number_of_products'])"
   ]
  },
  {
   "cell_type": "code",
   "execution_count": 32,
   "id": "e91b14e7",
   "metadata": {},
   "outputs": [
    {
     "data": {
      "text/plain": [
       "Series([], Name: number_of_products, dtype: int64)"
      ]
     },
     "metadata": {},
     "output_type": "display_data"
    }
   ],
   "source": [
    "display(product_count[product_count['number_of_products'] <= 64]['number_of_products'])"
   ]
  },
  {
   "cell_type": "markdown",
   "id": "425e9660",
   "metadata": {},
   "source": [
    "<b>ANSWER:</b> Yes, all of the orders with at least one missing **add_to_cart_order** value have more than 64 products in total, as evidenced by how the line of code above, which attempts to find orders with less than or equal to 64 products, displays an empty DataFrame."
   ]
  },
  {
   "cell_type": "code",
   "execution_count": 33,
   "id": "daf790c4",
   "metadata": {},
   "outputs": [
    {
     "data": {
      "text/plain": [
       "order_id\n",
       "9310        65\n",
       "747668      65\n",
       "1598369     65\n",
       "1677118     65\n",
       "2170451     65\n",
       "          ... \n",
       "1959075     98\n",
       "171934     104\n",
       "2136777    108\n",
       "3308010    115\n",
       "61355      127\n",
       "Name: number_of_products, Length: 70, dtype: int64"
      ]
     },
     "metadata": {},
     "output_type": "display_data"
    }
   ],
   "source": [
    "display(product_count['number_of_products'].sort_values())"
   ]
  },
  {
   "cell_type": "markdown",
   "id": "453a01b7",
   "metadata": {},
   "source": [
    "Indeed, 65 is the minimum number of products in orders that have at least one missing **add_to_cart_order** value."
   ]
  },
  {
   "cell_type": "markdown",
   "id": "80e72370",
   "metadata": {},
   "source": [
    "Replace the missing values with 999, and convert the column to integer type."
   ]
  },
  {
   "cell_type": "code",
   "execution_count": 34,
   "id": "7a987d08",
   "metadata": {},
   "outputs": [
    {
     "name": "stdout",
     "output_type": "stream",
     "text": [
      "<class 'pandas.core.frame.DataFrame'>\n",
      "RangeIndex: 4545007 entries, 0 to 4545006\n",
      "Data columns (total 4 columns):\n",
      " #   Column             Non-Null Count    Dtype\n",
      "---  ------             --------------    -----\n",
      " 0   order_id           4545007 non-null  int64\n",
      " 1   product_id         4545007 non-null  int64\n",
      " 2   add_to_cart_order  4545007 non-null  int64\n",
      " 3   reordered          4545007 non-null  int64\n",
      "dtypes: int64(4)\n",
      "memory usage: 138.7 MB\n"
     ]
    }
   ],
   "source": [
    "order_products = order_products.fillna(999)\n",
    "order_products['add_to_cart_order'] = order_products['add_to_cart_order'].astype(int)\n",
    "order_products.info(show_counts = True)"
   ]
  },
  {
   "cell_type": "markdown",
   "id": "turkish-kidney",
   "metadata": {},
   "source": [
    "# [A] Easy (must complete all to pass) <a id = 4></a>"
   ]
  },
  {
   "cell_type": "markdown",
   "id": "short-capability",
   "metadata": {},
   "source": [
    "[A1] Verify that the `'order_hour_of_day'` & `'order_dow'` values in the `instacart_orders` tables are sensible (i.e. `'order_hour_of_day'` ranges from 0 to 23 and `'order_dow'` ranges from 0 to 6)."
   ]
  },
  {
   "cell_type": "code",
   "execution_count": 35,
   "id": "growing-fruit",
   "metadata": {
    "scrolled": true
   },
   "outputs": [
    {
     "data": {
      "text/html": [
       "<div>\n",
       "<style scoped>\n",
       "    .dataframe tbody tr th:only-of-type {\n",
       "        vertical-align: middle;\n",
       "    }\n",
       "\n",
       "    .dataframe tbody tr th {\n",
       "        vertical-align: top;\n",
       "    }\n",
       "\n",
       "    .dataframe thead th {\n",
       "        text-align: right;\n",
       "    }\n",
       "</style>\n",
       "<table border=\"1\" class=\"dataframe\">\n",
       "  <thead>\n",
       "    <tr style=\"text-align: right;\">\n",
       "      <th></th>\n",
       "      <th>order_hour_of_day</th>\n",
       "      <th>order_dow</th>\n",
       "    </tr>\n",
       "  </thead>\n",
       "  <tbody>\n",
       "    <tr>\n",
       "      <th>count</th>\n",
       "      <td>478952.000000</td>\n",
       "      <td>478952.000000</td>\n",
       "    </tr>\n",
       "    <tr>\n",
       "      <th>mean</th>\n",
       "      <td>13.447034</td>\n",
       "      <td>2.775051</td>\n",
       "    </tr>\n",
       "    <tr>\n",
       "      <th>std</th>\n",
       "      <td>4.224567</td>\n",
       "      <td>2.045901</td>\n",
       "    </tr>\n",
       "    <tr>\n",
       "      <th>min</th>\n",
       "      <td>0.000000</td>\n",
       "      <td>0.000000</td>\n",
       "    </tr>\n",
       "    <tr>\n",
       "      <th>25%</th>\n",
       "      <td>10.000000</td>\n",
       "      <td>1.000000</td>\n",
       "    </tr>\n",
       "    <tr>\n",
       "      <th>50%</th>\n",
       "      <td>13.000000</td>\n",
       "      <td>3.000000</td>\n",
       "    </tr>\n",
       "    <tr>\n",
       "      <th>75%</th>\n",
       "      <td>16.000000</td>\n",
       "      <td>5.000000</td>\n",
       "    </tr>\n",
       "    <tr>\n",
       "      <th>max</th>\n",
       "      <td>23.000000</td>\n",
       "      <td>6.000000</td>\n",
       "    </tr>\n",
       "  </tbody>\n",
       "</table>\n",
       "</div>"
      ],
      "text/plain": [
       "       order_hour_of_day      order_dow\n",
       "count      478952.000000  478952.000000\n",
       "mean           13.447034       2.775051\n",
       "std             4.224567       2.045901\n",
       "min             0.000000       0.000000\n",
       "25%            10.000000       1.000000\n",
       "50%            13.000000       3.000000\n",
       "75%            16.000000       5.000000\n",
       "max            23.000000       6.000000"
      ]
     },
     "metadata": {},
     "output_type": "display_data"
    }
   ],
   "source": [
    "display(instacart_orders[['order_hour_of_day', 'order_dow']].describe())"
   ]
  },
  {
   "cell_type": "markdown",
   "id": "ca6d0d0d",
   "metadata": {},
   "source": [
    "By using the describe( ) function, I am able to view the min and max values of the `order_hour_of_day` and `order_dow` columns. \n",
    "    \n",
    "This helps me verify that the `order_hour_of_day` values range from 0 to 23, and that the `order_dow` values range from 0 to 6.\n",
    "    \n",
    "It is sensible for the `order_hour_of_day` values to range from 0 to 23 because there are 24 hours in a day, and this range covers every possible hour. For example, `order_hour_of_day` == 0 represents the range of time from 0:00 to 0:59 (alternatively, 12:00 am to 12:59 am) while `order_hour_of_day` == 23 represents from 23:00 to 23:59 (alternatively, 11 pm to 11:59 pm).\n",
    "    \n",
    "It is sensible for the `order_dow` values to range from 0 to 6 because dow is an abbreviation for \"day of the week\", there are seven days in a week, and there are seven integers in the number range 0 to 6 (inclusive). 0 stands for Monday, 1 stands for Tuesday, 2 stands for Wednesday, etc."
   ]
  },
  {
   "cell_type": "markdown",
   "id": "a6743a70",
   "metadata": {},
   "source": [
    "[A2] What time of day do people shop for groceries?"
   ]
  },
  {
   "cell_type": "code",
   "execution_count": 36,
   "id": "a36cca27",
   "metadata": {},
   "outputs": [
    {
     "data": {
      "text/html": [
       "<div>\n",
       "<style scoped>\n",
       "    .dataframe tbody tr th:only-of-type {\n",
       "        vertical-align: middle;\n",
       "    }\n",
       "\n",
       "    .dataframe tbody tr th {\n",
       "        vertical-align: top;\n",
       "    }\n",
       "\n",
       "    .dataframe thead th {\n",
       "        text-align: right;\n",
       "    }\n",
       "</style>\n",
       "<table border=\"1\" class=\"dataframe\">\n",
       "  <thead>\n",
       "    <tr style=\"text-align: right;\">\n",
       "      <th></th>\n",
       "      <th>order_hour_of_day</th>\n",
       "    </tr>\n",
       "  </thead>\n",
       "  <tbody>\n",
       "    <tr>\n",
       "      <th>count</th>\n",
       "      <td>478952.000000</td>\n",
       "    </tr>\n",
       "    <tr>\n",
       "      <th>mean</th>\n",
       "      <td>13.447034</td>\n",
       "    </tr>\n",
       "    <tr>\n",
       "      <th>std</th>\n",
       "      <td>4.224567</td>\n",
       "    </tr>\n",
       "    <tr>\n",
       "      <th>min</th>\n",
       "      <td>0.000000</td>\n",
       "    </tr>\n",
       "    <tr>\n",
       "      <th>25%</th>\n",
       "      <td>10.000000</td>\n",
       "    </tr>\n",
       "    <tr>\n",
       "      <th>50%</th>\n",
       "      <td>13.000000</td>\n",
       "    </tr>\n",
       "    <tr>\n",
       "      <th>75%</th>\n",
       "      <td>16.000000</td>\n",
       "    </tr>\n",
       "    <tr>\n",
       "      <th>max</th>\n",
       "      <td>23.000000</td>\n",
       "    </tr>\n",
       "  </tbody>\n",
       "</table>\n",
       "</div>"
      ],
      "text/plain": [
       "       order_hour_of_day\n",
       "count      478952.000000\n",
       "mean           13.447034\n",
       "std             4.224567\n",
       "min             0.000000\n",
       "25%            10.000000\n",
       "50%            13.000000\n",
       "75%            16.000000\n",
       "max            23.000000"
      ]
     },
     "metadata": {},
     "output_type": "display_data"
    },
    {
     "data": {
      "image/png": "[encoded data removed]",
      "text/plain": [
       "<Figure size 1000x500 with 1 Axes>"
      ]
     },
     "metadata": {},
     "output_type": "display_data"
    }
   ],
   "source": [
    "display(instacart_orders[['order_hour_of_day']].describe())\n",
    "\n",
    "hour_of_day_count = instacart_orders[['order_id', 'order_hour_of_day']].groupby('order_hour_of_day').count()\n",
    "\n",
    "hour_of_day_count = hour_of_day_count.reset_index()\n",
    "\n",
    "hour_of_day_count.plot(kind = 'bar', \n",
    "                       x = 'order_hour_of_day',\n",
    "                       y = 'order_id',\n",
    "                       title = 'Number of Orders by Hour of Day',\n",
    "                       xlabel = 'Hour of Day',\n",
    "                       ylabel = 'Number of Orders',\n",
    "                       figsize = (10, 5), \n",
    "                       legend = None)\n",
    "\n",
    "plt.xticks(rotation = 0)\n",
    "plt.show()"
   ]
  },
  {
   "cell_type": "markdown",
   "id": "25df915f",
   "metadata": {},
   "source": [
    "People shop for groceries all throughout the day, however it is worth noting that 50% of them place their orders before 13:00 (alternatively, 1:00 pm) and the other half after 13:00 (1:00 pm) but before 23:59 (11:59 pm). This implies that there is a slight majority in favor of placing orders in the second half of the 24-hour day compared to the first half. Furthermore, the middle 50% of people place their orders between 10:00 (am) and 16:59 (4:59 pm), as determined by the 25th and 75th percentile values.\n",
    "    \n",
    "Also worth noting is that the most common hour for ordering groceries is from 10:00 (am) to 10:59 (am) whereas the least common hour is from 4:00 (am) to 4:59 (am). Finally, the top 12 hours of day include all of the integers from 8 to 19, inclusive. 413090 / 478967 * 100% ≈ 86.25% of orders are placed between these 12 hours."
   ]
  },
  {
   "cell_type": "markdown",
   "id": "documented-command",
   "metadata": {},
   "source": [
    "[A3] What day of the week do people shop for groceries?"
   ]
  },
  {
   "cell_type": "code",
   "execution_count": 37,
   "id": "chief-digit",
   "metadata": {},
   "outputs": [
    {
     "data": {
      "text/plain": [
       "order_dow\n",
       "0    84090\n",
       "1    82185\n",
       "2    65833\n",
       "5    63488\n",
       "6    62649\n",
       "3    60897\n",
       "4    59810\n",
       "dtype: int64"
      ]
     },
     "metadata": {},
     "output_type": "display_data"
    },
    {
     "data": {
      "image/png": "[encoded data removed]",
      "text/plain": [
       "<Figure size 1000x500 with 1 Axes>"
      ]
     },
     "metadata": {},
     "output_type": "display_data"
    }
   ],
   "source": [
    "display(instacart_orders.value_counts('order_dow'))\n",
    "\n",
    "order_dow_count = instacart_orders[['order_id', 'order_dow']].groupby('order_dow').count()\n",
    "\n",
    "order_dow_count = order_dow_count.reset_index()\n",
    "\n",
    "order_dow_count.plot(kind = 'bar', \n",
    "                     x = 'order_dow',\n",
    "                     y = 'order_id',\n",
    "                     title = 'Number of Orders by Day of Week',\n",
    "                     xlabel = 'Day of Week (Monday = 0, Tuesday = 1, etc.)',\n",
    "                     ylabel = 'Number of Orders',\n",
    "                     figsize = (10, 5), \n",
    "                     legend = None)\n",
    "\n",
    "plt.xticks(rotation = 0)\n",
    "plt.show()"
   ]
  },
  {
   "cell_type": "markdown",
   "id": "2fe36e2b",
   "metadata": {},
   "source": [
    "Though grocery shopping occurs on all seven days of the week, the most common day is Monday, followed closely by Tuesday. The least common day for grocery shopping is Friday, with Thursday being a close second least common day. It is worth noting that Monday and Tuesday are the only days of the week with over 80,000 occurrences of grocery shopping. The third most common day, Wednesday, has 65,833 occurrences, which is a <u>BIG</u> decrease compared to 84,090 (Monday) and 82,185 (Tuesday)."
   ]
  },
  {
   "cell_type": "markdown",
   "id": "cutting-concert",
   "metadata": {},
   "source": [
    "[A4] How long do people wait until placing another order?"
   ]
  },
  {
   "cell_type": "code",
   "execution_count": 38,
   "id": "c231f523",
   "metadata": {},
   "outputs": [
    {
     "data": {
      "text/html": [
       "<div>\n",
       "<style scoped>\n",
       "    .dataframe tbody tr th:only-of-type {\n",
       "        vertical-align: middle;\n",
       "    }\n",
       "\n",
       "    .dataframe tbody tr th {\n",
       "        vertical-align: top;\n",
       "    }\n",
       "\n",
       "    .dataframe thead th {\n",
       "        text-align: right;\n",
       "    }\n",
       "</style>\n",
       "<table border=\"1\" class=\"dataframe\">\n",
       "  <thead>\n",
       "    <tr style=\"text-align: right;\">\n",
       "      <th></th>\n",
       "      <th>days_since_prior_order</th>\n",
       "    </tr>\n",
       "  </thead>\n",
       "  <tbody>\n",
       "    <tr>\n",
       "      <th>count</th>\n",
       "      <td>450135.000000</td>\n",
       "    </tr>\n",
       "    <tr>\n",
       "      <th>mean</th>\n",
       "      <td>11.101814</td>\n",
       "    </tr>\n",
       "    <tr>\n",
       "      <th>std</th>\n",
       "      <td>9.190004</td>\n",
       "    </tr>\n",
       "    <tr>\n",
       "      <th>min</th>\n",
       "      <td>0.000000</td>\n",
       "    </tr>\n",
       "    <tr>\n",
       "      <th>25%</th>\n",
       "      <td>4.000000</td>\n",
       "    </tr>\n",
       "    <tr>\n",
       "      <th>50%</th>\n",
       "      <td>7.000000</td>\n",
       "    </tr>\n",
       "    <tr>\n",
       "      <th>75%</th>\n",
       "      <td>15.000000</td>\n",
       "    </tr>\n",
       "    <tr>\n",
       "      <th>max</th>\n",
       "      <td>30.000000</td>\n",
       "    </tr>\n",
       "  </tbody>\n",
       "</table>\n",
       "</div>"
      ],
      "text/plain": [
       "       days_since_prior_order\n",
       "count           450135.000000\n",
       "mean                11.101814\n",
       "std                  9.190004\n",
       "min                  0.000000\n",
       "25%                  4.000000\n",
       "50%                  7.000000\n",
       "75%                 15.000000\n",
       "max                 30.000000"
      ]
     },
     "metadata": {},
     "output_type": "display_data"
    },
    {
     "data": {
      "text/plain": [
       "days_since_prior_order\n",
       "30.0    51337\n",
       "7.0     44577\n",
       "6.0     33930\n",
       "4.0     31006\n",
       "3.0     30224\n",
       "5.0     30096\n",
       "2.0     27138\n",
       "8.0     25361\n",
       "1.0     20179\n",
       "9.0     16753\n",
       "14.0    13992\n",
       "10.0    13309\n",
       "13.0    11737\n",
       "11.0    11467\n",
       "12.0    10658\n",
       "0.0      9589\n",
       "15.0     9416\n",
       "16.0     6587\n",
       "21.0     6448\n",
       "17.0     5498\n",
       "20.0     5302\n",
       "18.0     4971\n",
       "19.0     4939\n",
       "22.0     4514\n",
       "28.0     3745\n",
       "23.0     3337\n",
       "24.0     3015\n",
       "27.0     2986\n",
       "25.0     2711\n",
       "29.0     2673\n",
       "26.0     2640\n",
       "dtype: int64"
      ]
     },
     "metadata": {},
     "output_type": "display_data"
    },
    {
     "data": {
      "image/png": "[encoded data removed]",
      "text/plain": [
       "<Figure size 1000x500 with 1 Axes>"
      ]
     },
     "metadata": {},
     "output_type": "display_data"
    }
   ],
   "source": [
    "display(instacart_orders[['days_since_prior_order']].describe())\n",
    "\n",
    "display(instacart_orders.value_counts('days_since_prior_order'))\n",
    "\n",
    "days_since_prior_order_count = instacart_orders.groupby('days_since_prior_order').count()\n",
    "\n",
    "days_since_prior_order_count = days_since_prior_order_count.reset_index()\n",
    "\n",
    "days_since_prior_order_count = days_since_prior_order_count.rename(columns = {'index': 'number_of_orders'})\n",
    "\n",
    "days_since_prior_order_count['days_since_prior_order'] = days_since_prior_order_count['days_since_prior_order'].astype(int)\n",
    "\n",
    "days_since_prior_order_count.plot(kind = 'bar', \n",
    "                                  x = 'days_since_prior_order',\n",
    "                                  y = 'number_of_orders',\n",
    "                                  title = 'Number of Orders Made X Days After Previous Order',\n",
    "                                  xlabel = 'Number of Days Since Previous Order',\n",
    "                                  ylabel = 'Number of Orders',\n",
    "                                  legend = None,\n",
    "                                  figsize = (10, 5))\n",
    "\n",
    "plt.xticks(rotation = 0)\n",
    "plt.show()"
   ]
  },
  {
   "cell_type": "markdown",
   "id": "c8c0c1dd",
   "metadata": {},
   "source": [
    "The median number of days people wait until placing another order is 7 days, meaning half of the people in this data set place a new order within one week after the previous order. On the flip side, half of the people place a new order between one week and thirty days after the previous order. \n",
    "    \n",
    "Additionally, the 75th percentile `days_since_prior_order` value is 15, meaning the majority of new orders, specifically 75% of them, are made within half a month after the previous order. \n",
    "    \n",
    "Worth noting is that the most common `days_since_prior_order` value is 30, with 51,337 occurrences. The second most common `days_since_prior_order` value is 7, which has much fewer occurrences, 44,577. There is an even bigger \"gap\" between second place and third place, with the `days_since_prior_order` value of 6 having 33,930 occurrences. \n",
    "    \n",
    "30 being the modal value can possibly be explained by the fact that some people deliberately go grocery shopping only once a month and buy many products in bulk. 30 being the modal value also explains why the mean value, approximately 11, is much larger than the median value. Since mean values are highly influenced by outliers, in this dataset it is more appropriate to use the percentile values as representative values."
   ]
  },
  {
   "cell_type": "markdown",
   "id": "tight-staff",
   "metadata": {},
   "source": [
    "# [B] Medium (must complete all to pass) <a id = 5></a>"
   ]
  },
  {
   "cell_type": "markdown",
   "id": "packed-classic",
   "metadata": {},
   "source": [
    "[B1] Is there a difference in `'order_hour_of_day'` distributions on Wednesdays and Saturdays? \n",
    "\n",
    "Plot a bar graph for both days and describe the differences that you see."
   ]
  },
  {
   "cell_type": "code",
   "execution_count": 39,
   "id": "d89b8403",
   "metadata": {},
   "outputs": [
    {
     "data": {
      "image/png": "[encoded data removed]",
      "text/plain": [
       "<Figure size 1000x500 with 1 Axes>"
      ]
     },
     "metadata": {},
     "output_type": "display_data"
    }
   ],
   "source": [
    "wednesday_data = instacart_orders[instacart_orders['order_dow'] == 2]['order_hour_of_day'].value_counts(sort = False)\n",
    "saturday_data = instacart_orders[instacart_orders['order_dow'] == 5]['order_hour_of_day'].value_counts(sort = False)\n",
    "\n",
    "wed_sat_data = pd.concat([wednesday_data, saturday_data], axis = 'columns')\n",
    "wed_sat_data.columns = ['wednesday_orders', 'saturday_orders']\n",
    "\n",
    "wed_sat_data.plot(kind = 'bar', \n",
    "                  y = ['wednesday_orders', 'saturday_orders'],\n",
    "                  title = 'Number of Orders by Hour on Wednesday and Saturday',\n",
    "                  xlabel = 'Hour of Day',\n",
    "                  ylabel = 'Number of Orders',\n",
    "                  figsize = (10, 5))\n",
    "\n",
    "plt.legend(['Wednesday', 'Saturday'])\n",
    "plt.xticks(rotation = 0)\n",
    "plt.show()"
   ]
  },
  {
   "cell_type": "markdown",
   "id": "c785c5e0",
   "metadata": {},
   "source": [
    "There is little difference between the `order_hour_of_day` distributions for Wednesday and Saturday. \n",
    "    \n",
    "Both distributions have a low number of orders until a dramatic increase in orders beginning at hour 6. \n",
    "    \n",
    "In both distributions, the number of orders peak between hours 9 and 16 before decreasing by a lot in each remaining hour in the 24-hour day."
   ]
  },
  {
   "cell_type": "markdown",
   "id": "e3891143",
   "metadata": {},
   "source": [
    "[B2] What's the distribution for the number of orders per customer?"
   ]
  },
  {
   "cell_type": "code",
   "execution_count": 40,
   "id": "63114f42",
   "metadata": {},
   "outputs": [
    {
     "data": {
      "text/html": [
       "<div>\n",
       "<style scoped>\n",
       "    .dataframe tbody tr th:only-of-type {\n",
       "        vertical-align: middle;\n",
       "    }\n",
       "\n",
       "    .dataframe tbody tr th {\n",
       "        vertical-align: top;\n",
       "    }\n",
       "\n",
       "    .dataframe thead th {\n",
       "        text-align: right;\n",
       "    }\n",
       "</style>\n",
       "<table border=\"1\" class=\"dataframe\">\n",
       "  <thead>\n",
       "    <tr style=\"text-align: right;\">\n",
       "      <th></th>\n",
       "      <th>number_of_orders</th>\n",
       "      <th>frequency</th>\n",
       "    </tr>\n",
       "  </thead>\n",
       "  <tbody>\n",
       "    <tr>\n",
       "      <th>0</th>\n",
       "      <td>1</td>\n",
       "      <td>28817</td>\n",
       "    </tr>\n",
       "    <tr>\n",
       "      <th>1</th>\n",
       "      <td>2</td>\n",
       "      <td>28633</td>\n",
       "    </tr>\n",
       "    <tr>\n",
       "      <th>2</th>\n",
       "      <td>3</td>\n",
       "      <td>28685</td>\n",
       "    </tr>\n",
       "    <tr>\n",
       "      <th>3</th>\n",
       "      <td>4</td>\n",
       "      <td>28703</td>\n",
       "    </tr>\n",
       "    <tr>\n",
       "      <th>4</th>\n",
       "      <td>5</td>\n",
       "      <td>25661</td>\n",
       "    </tr>\n",
       "    <tr>\n",
       "      <th>...</th>\n",
       "      <td>...</td>\n",
       "      <td>...</td>\n",
       "    </tr>\n",
       "    <tr>\n",
       "      <th>95</th>\n",
       "      <td>96</td>\n",
       "      <td>220</td>\n",
       "    </tr>\n",
       "    <tr>\n",
       "      <th>96</th>\n",
       "      <td>97</td>\n",
       "      <td>221</td>\n",
       "    </tr>\n",
       "    <tr>\n",
       "      <th>97</th>\n",
       "      <td>98</td>\n",
       "      <td>191</td>\n",
       "    </tr>\n",
       "    <tr>\n",
       "      <th>98</th>\n",
       "      <td>99</td>\n",
       "      <td>169</td>\n",
       "    </tr>\n",
       "    <tr>\n",
       "      <th>99</th>\n",
       "      <td>100</td>\n",
       "      <td>194</td>\n",
       "    </tr>\n",
       "  </tbody>\n",
       "</table>\n",
       "<p>100 rows × 2 columns</p>\n",
       "</div>"
      ],
      "text/plain": [
       "    number_of_orders  frequency\n",
       "0                  1      28817\n",
       "1                  2      28633\n",
       "2                  3      28685\n",
       "3                  4      28703\n",
       "4                  5      25661\n",
       "..               ...        ...\n",
       "95                96        220\n",
       "96                97        221\n",
       "97                98        191\n",
       "98                99        169\n",
       "99               100        194\n",
       "\n",
       "[100 rows x 2 columns]"
      ]
     },
     "metadata": {},
     "output_type": "display_data"
    }
   ],
   "source": [
    "order_numbers = instacart_orders['order_number'].value_counts(sort = False)\n",
    "order_numbers = order_numbers.reset_index()\n",
    "order_numbers = order_numbers.rename(columns = {'index': 'number_of_orders', 'order_number': 'frequency'})\n",
    "\n",
    "display(order_numbers)"
   ]
  },
  {
   "cell_type": "code",
   "execution_count": 41,
   "id": "be6aeca3",
   "metadata": {},
   "outputs": [
    {
     "data": {
      "image/png": "[encoded data removed]",
      "text/plain": [
       "<Figure size 1000x500 with 1 Axes>"
      ]
     },
     "metadata": {},
     "output_type": "display_data"
    }
   ],
   "source": [
    "order_numbers.plot(kind = 'bar', \n",
    "                   x = 'number_of_orders',\n",
    "                   y = 'frequency',\n",
    "                   title = 'Distribution of Number of Orders Customers Have Placed',\n",
    "                   xlabel = 'Number of Orders',\n",
    "                   ylabel = 'Frequency',\n",
    "                   legend = None,\n",
    "                   figsize = (10, 5))\n",
    "\n",
    "plt.xticks(rotation = 0)\n",
    "plt.xticks([-1, 4, 9, 14, 19, 24, 29, 34, 39, 44, 49, 54, 59, 64, 69, 74, 79, 84, 89, 94, 99])\n",
    "plt.show(plt.xlim(-1, 49))"
   ]
  },
  {
   "cell_type": "markdown",
   "id": "2751fdca",
   "metadata": {},
   "source": [
    "The distribution for the number of orders per customer is right-tailed. In other words, the vast majority of people in this data have only placed a small number of orders on the Instacart app, as viewable at the beginning of the graph. The Number of Orders values 1, 2, 3, and 4 have the highest Frequencies, and starting with 5 the Frequencies are almost always lower than that of the previous Number of Orders value. It is possible that an exponential decay function could be used to model the dramatic decrease in the frequencies of number of orders placed, but more code would need to be written to confirm this hypothesis."
   ]
  },
  {
   "cell_type": "markdown",
   "id": "54a0319c",
   "metadata": {},
   "source": [
    "[B3] What are the top 20 popular products (display their id and name)?"
   ]
  },
  {
   "cell_type": "code",
   "execution_count": 42,
   "id": "177a3db4",
   "metadata": {},
   "outputs": [
    {
     "data": {
      "text/html": [
       "<div>\n",
       "<style scoped>\n",
       "    .dataframe tbody tr th:only-of-type {\n",
       "        vertical-align: middle;\n",
       "    }\n",
       "\n",
       "    .dataframe tbody tr th {\n",
       "        vertical-align: top;\n",
       "    }\n",
       "\n",
       "    .dataframe thead th {\n",
       "        text-align: right;\n",
       "    }\n",
       "</style>\n",
       "<table border=\"1\" class=\"dataframe\">\n",
       "  <thead>\n",
       "    <tr style=\"text-align: right;\">\n",
       "      <th></th>\n",
       "      <th>product_id</th>\n",
       "      <th>product_name</th>\n",
       "      <th>how_many_purchased</th>\n",
       "    </tr>\n",
       "  </thead>\n",
       "  <tbody>\n",
       "    <tr>\n",
       "      <th>0</th>\n",
       "      <td>24852</td>\n",
       "      <td>banana</td>\n",
       "      <td>66050</td>\n",
       "    </tr>\n",
       "    <tr>\n",
       "      <th>1</th>\n",
       "      <td>13176</td>\n",
       "      <td>bag of organic bananas</td>\n",
       "      <td>53297</td>\n",
       "    </tr>\n",
       "    <tr>\n",
       "      <th>2</th>\n",
       "      <td>21137</td>\n",
       "      <td>organic strawberries</td>\n",
       "      <td>37039</td>\n",
       "    </tr>\n",
       "    <tr>\n",
       "      <th>3</th>\n",
       "      <td>21903</td>\n",
       "      <td>organic baby spinach</td>\n",
       "      <td>33971</td>\n",
       "    </tr>\n",
       "    <tr>\n",
       "      <th>4</th>\n",
       "      <td>47209</td>\n",
       "      <td>organic hass avocado</td>\n",
       "      <td>29773</td>\n",
       "    </tr>\n",
       "    <tr>\n",
       "      <th>5</th>\n",
       "      <td>47766</td>\n",
       "      <td>organic avocado</td>\n",
       "      <td>24689</td>\n",
       "    </tr>\n",
       "    <tr>\n",
       "      <th>6</th>\n",
       "      <td>47626</td>\n",
       "      <td>large lemon</td>\n",
       "      <td>21495</td>\n",
       "    </tr>\n",
       "    <tr>\n",
       "      <th>7</th>\n",
       "      <td>16797</td>\n",
       "      <td>strawberries</td>\n",
       "      <td>20018</td>\n",
       "    </tr>\n",
       "    <tr>\n",
       "      <th>8</th>\n",
       "      <td>26209</td>\n",
       "      <td>limes</td>\n",
       "      <td>19690</td>\n",
       "    </tr>\n",
       "    <tr>\n",
       "      <th>9</th>\n",
       "      <td>27845</td>\n",
       "      <td>organic whole milk</td>\n",
       "      <td>19600</td>\n",
       "    </tr>\n",
       "    <tr>\n",
       "      <th>10</th>\n",
       "      <td>27966</td>\n",
       "      <td>organic raspberries</td>\n",
       "      <td>19197</td>\n",
       "    </tr>\n",
       "    <tr>\n",
       "      <th>11</th>\n",
       "      <td>22935</td>\n",
       "      <td>organic yellow onion</td>\n",
       "      <td>15898</td>\n",
       "    </tr>\n",
       "    <tr>\n",
       "      <th>12</th>\n",
       "      <td>24964</td>\n",
       "      <td>organic garlic</td>\n",
       "      <td>15292</td>\n",
       "    </tr>\n",
       "    <tr>\n",
       "      <th>13</th>\n",
       "      <td>45007</td>\n",
       "      <td>organic zucchini</td>\n",
       "      <td>14584</td>\n",
       "    </tr>\n",
       "    <tr>\n",
       "      <th>14</th>\n",
       "      <td>39275</td>\n",
       "      <td>organic blueberries</td>\n",
       "      <td>13879</td>\n",
       "    </tr>\n",
       "    <tr>\n",
       "      <th>15</th>\n",
       "      <td>49683</td>\n",
       "      <td>cucumber kirby</td>\n",
       "      <td>13675</td>\n",
       "    </tr>\n",
       "    <tr>\n",
       "      <th>16</th>\n",
       "      <td>28204</td>\n",
       "      <td>organic fuji apple</td>\n",
       "      <td>12544</td>\n",
       "    </tr>\n",
       "    <tr>\n",
       "      <th>17</th>\n",
       "      <td>5876</td>\n",
       "      <td>organic lemon</td>\n",
       "      <td>12232</td>\n",
       "    </tr>\n",
       "    <tr>\n",
       "      <th>18</th>\n",
       "      <td>8277</td>\n",
       "      <td>apple honeycrisp organic</td>\n",
       "      <td>11993</td>\n",
       "    </tr>\n",
       "    <tr>\n",
       "      <th>19</th>\n",
       "      <td>40706</td>\n",
       "      <td>organic grape tomatoes</td>\n",
       "      <td>11781</td>\n",
       "    </tr>\n",
       "  </tbody>\n",
       "</table>\n",
       "</div>"
      ],
      "text/plain": [
       "    product_id              product_name  how_many_purchased\n",
       "0        24852                    banana               66050\n",
       "1        13176    bag of organic bananas               53297\n",
       "2        21137      organic strawberries               37039\n",
       "3        21903      organic baby spinach               33971\n",
       "4        47209      organic hass avocado               29773\n",
       "5        47766           organic avocado               24689\n",
       "6        47626               large lemon               21495\n",
       "7        16797              strawberries               20018\n",
       "8        26209                     limes               19690\n",
       "9        27845        organic whole milk               19600\n",
       "10       27966       organic raspberries               19197\n",
       "11       22935      organic yellow onion               15898\n",
       "12       24964            organic garlic               15292\n",
       "13       45007          organic zucchini               14584\n",
       "14       39275       organic blueberries               13879\n",
       "15       49683            cucumber kirby               13675\n",
       "16       28204        organic fuji apple               12544\n",
       "17        5876             organic lemon               12232\n",
       "18        8277  apple honeycrisp organic               11993\n",
       "19       40706    organic grape tomatoes               11781"
      ]
     },
     "metadata": {},
     "output_type": "display_data"
    }
   ],
   "source": [
    "top_20_count = order_products.merge(products, on = 'product_id')\n",
    "\n",
    "top_20_count = top_20_count.groupby(['product_id', 'product_name'])\n",
    "\n",
    "top_20_count = top_20_count['order_id'].count().reset_index()\n",
    "\n",
    "top_20_count = top_20_count.sort_values('order_id', ascending=False).head(20)\n",
    "\n",
    "top_20_count = top_20_count.reset_index(drop = True)\n",
    "\n",
    "top_20_count = top_20_count.rename(columns = {\"order_id\": \"how_many_purchased\"})\n",
    "\n",
    "display(top_20_count)"
   ]
  },
  {
   "cell_type": "markdown",
   "id": "gross-theme",
   "metadata": {},
   "source": [
    "# [C] Hard (must complete at least two to pass) <a id = 6></a>"
   ]
  },
  {
   "cell_type": "markdown",
   "id": "romantic-deposit",
   "metadata": {},
   "source": [
    "[C1] How many items do people typically buy in one order? What does the distribution look like?"
   ]
  },
  {
   "cell_type": "code",
   "execution_count": 43,
   "id": "virtual-punch",
   "metadata": {},
   "outputs": [
    {
     "data": {
      "image/png": "[encoded data removed]",
      "text/plain": [
       "<Figure size 1000x500 with 1 Axes>"
      ]
     },
     "metadata": {},
     "output_type": "display_data"
    }
   ],
   "source": [
    "order_and_product_id = order_products[['order_id', 'product_id']]\n",
    "\n",
    "items_per_order = order_and_product_id.groupby('order_id').count()\n",
    "\n",
    "items_per_order.plot(kind = 'hist',\n",
    "                     bins = np.arange(0, 140, step = 10),\n",
    "                     title = 'Distribution of Number of Items Per Order',\n",
    "                     figsize = (10, 5),\n",
    "                     legend = None,\n",
    "                     edgecolor = 'black')\n",
    "\n",
    "plt.xlabel('Number of Items in One Order')\n",
    "plt.xticks(np.arange(0, 140, step = 10))\n",
    "plt.show()"
   ]
  },
  {
   "cell_type": "markdown",
   "id": "a315b08b",
   "metadata": {},
   "source": [
    "If you were to categorize the possible number of items in an order into bins of 10 consecutive integers (e.g. 0 to 10, 10 to 20, 20 to 30, etc.), like what I did with the histogram above, you would see that it is most common, by far, for people to only order between 1 and 10 items (notice I wrote \"1 and 10\" because 0 items doesn't make sense in this context). In second place is ordering between 10 and 20 items, which occurs less than half as often as ordering between 1 and 10 items. As the Number of Items in One Order increases, the frequency of that number of items being in one order decreases, dramatically. In short, this is a right-tailed distribution."
   ]
  },
  {
   "cell_type": "markdown",
   "id": "5e6b5537",
   "metadata": {},
   "source": [
    "[C2] What are the top 20 items that are reordered most frequently (display their names and product IDs)?"
   ]
  },
  {
   "cell_type": "code",
   "execution_count": 44,
   "id": "74f71bed",
   "metadata": {},
   "outputs": [
    {
     "data": {
      "text/html": [
       "<div>\n",
       "<style scoped>\n",
       "    .dataframe tbody tr th:only-of-type {\n",
       "        vertical-align: middle;\n",
       "    }\n",
       "\n",
       "    .dataframe tbody tr th {\n",
       "        vertical-align: top;\n",
       "    }\n",
       "\n",
       "    .dataframe thead th {\n",
       "        text-align: right;\n",
       "    }\n",
       "</style>\n",
       "<table border=\"1\" class=\"dataframe\">\n",
       "  <thead>\n",
       "    <tr style=\"text-align: right;\">\n",
       "      <th></th>\n",
       "      <th>product_id</th>\n",
       "      <th>product_name</th>\n",
       "      <th>reordered_count</th>\n",
       "    </tr>\n",
       "  </thead>\n",
       "  <tbody>\n",
       "    <tr>\n",
       "      <th>0</th>\n",
       "      <td>24852</td>\n",
       "      <td>banana</td>\n",
       "      <td>55763</td>\n",
       "    </tr>\n",
       "    <tr>\n",
       "      <th>1</th>\n",
       "      <td>13176</td>\n",
       "      <td>bag of organic bananas</td>\n",
       "      <td>44450</td>\n",
       "    </tr>\n",
       "    <tr>\n",
       "      <th>2</th>\n",
       "      <td>21137</td>\n",
       "      <td>organic strawberries</td>\n",
       "      <td>28639</td>\n",
       "    </tr>\n",
       "    <tr>\n",
       "      <th>3</th>\n",
       "      <td>21903</td>\n",
       "      <td>organic baby spinach</td>\n",
       "      <td>26233</td>\n",
       "    </tr>\n",
       "    <tr>\n",
       "      <th>4</th>\n",
       "      <td>47209</td>\n",
       "      <td>organic hass avocado</td>\n",
       "      <td>23629</td>\n",
       "    </tr>\n",
       "    <tr>\n",
       "      <th>5</th>\n",
       "      <td>47766</td>\n",
       "      <td>organic avocado</td>\n",
       "      <td>18743</td>\n",
       "    </tr>\n",
       "    <tr>\n",
       "      <th>6</th>\n",
       "      <td>27845</td>\n",
       "      <td>organic whole milk</td>\n",
       "      <td>16251</td>\n",
       "    </tr>\n",
       "    <tr>\n",
       "      <th>7</th>\n",
       "      <td>47626</td>\n",
       "      <td>large lemon</td>\n",
       "      <td>15044</td>\n",
       "    </tr>\n",
       "    <tr>\n",
       "      <th>8</th>\n",
       "      <td>27966</td>\n",
       "      <td>organic raspberries</td>\n",
       "      <td>14748</td>\n",
       "    </tr>\n",
       "    <tr>\n",
       "      <th>9</th>\n",
       "      <td>16797</td>\n",
       "      <td>strawberries</td>\n",
       "      <td>13945</td>\n",
       "    </tr>\n",
       "    <tr>\n",
       "      <th>10</th>\n",
       "      <td>26209</td>\n",
       "      <td>limes</td>\n",
       "      <td>13327</td>\n",
       "    </tr>\n",
       "    <tr>\n",
       "      <th>11</th>\n",
       "      <td>22935</td>\n",
       "      <td>organic yellow onion</td>\n",
       "      <td>11145</td>\n",
       "    </tr>\n",
       "    <tr>\n",
       "      <th>12</th>\n",
       "      <td>24964</td>\n",
       "      <td>organic garlic</td>\n",
       "      <td>10411</td>\n",
       "    </tr>\n",
       "    <tr>\n",
       "      <th>13</th>\n",
       "      <td>45007</td>\n",
       "      <td>organic zucchini</td>\n",
       "      <td>10076</td>\n",
       "    </tr>\n",
       "    <tr>\n",
       "      <th>14</th>\n",
       "      <td>49683</td>\n",
       "      <td>cucumber kirby</td>\n",
       "      <td>9538</td>\n",
       "    </tr>\n",
       "    <tr>\n",
       "      <th>15</th>\n",
       "      <td>28204</td>\n",
       "      <td>organic fuji apple</td>\n",
       "      <td>8989</td>\n",
       "    </tr>\n",
       "    <tr>\n",
       "      <th>16</th>\n",
       "      <td>8277</td>\n",
       "      <td>apple honeycrisp organic</td>\n",
       "      <td>8836</td>\n",
       "    </tr>\n",
       "    <tr>\n",
       "      <th>17</th>\n",
       "      <td>39275</td>\n",
       "      <td>organic blueberries</td>\n",
       "      <td>8799</td>\n",
       "    </tr>\n",
       "    <tr>\n",
       "      <th>18</th>\n",
       "      <td>5876</td>\n",
       "      <td>organic lemon</td>\n",
       "      <td>8412</td>\n",
       "    </tr>\n",
       "    <tr>\n",
       "      <th>19</th>\n",
       "      <td>49235</td>\n",
       "      <td>organic half &amp; half</td>\n",
       "      <td>8389</td>\n",
       "    </tr>\n",
       "  </tbody>\n",
       "</table>\n",
       "</div>"
      ],
      "text/plain": [
       "    product_id              product_name  reordered_count\n",
       "0        24852                    banana            55763\n",
       "1        13176    bag of organic bananas            44450\n",
       "2        21137      organic strawberries            28639\n",
       "3        21903      organic baby spinach            26233\n",
       "4        47209      organic hass avocado            23629\n",
       "5        47766           organic avocado            18743\n",
       "6        27845        organic whole milk            16251\n",
       "7        47626               large lemon            15044\n",
       "8        27966       organic raspberries            14748\n",
       "9        16797              strawberries            13945\n",
       "10       26209                     limes            13327\n",
       "11       22935      organic yellow onion            11145\n",
       "12       24964            organic garlic            10411\n",
       "13       45007          organic zucchini            10076\n",
       "14       49683            cucumber kirby             9538\n",
       "15       28204        organic fuji apple             8989\n",
       "16        8277  apple honeycrisp organic             8836\n",
       "17       39275       organic blueberries             8799\n",
       "18        5876             organic lemon             8412\n",
       "19       49235       organic half & half             8389"
      ]
     },
     "metadata": {},
     "output_type": "display_data"
    }
   ],
   "source": [
    "reorder = order_products[['product_id', 'reordered']]\n",
    "\n",
    "reorder = reorder[reorder['reordered'] == 1]\n",
    "\n",
    "reorder = reorder.merge(products, on = 'product_id')\n",
    "\n",
    "reorder_count = reorder.groupby(['product_id', 'product_name']).count()\n",
    "\n",
    "reorder_count = reorder_count.sort_values('reordered', ascending = False)\n",
    "\n",
    "reorder_count = reorder_count.reset_index()\n",
    "\n",
    "reorder_count = reorder_count.rename(columns = {'reordered': 'reordered_count'})\n",
    "\n",
    "reorder_count = reorder_count.drop(columns = {'aisle_id', 'department_id'})\n",
    "\n",
    "display(reorder_count.head(20))"
   ]
  },
  {
   "cell_type": "markdown",
   "id": "9d312b14",
   "metadata": {},
   "source": [
    "[C3] For each product, what proportion of its orders are reorders?"
   ]
  },
  {
   "cell_type": "code",
   "execution_count": 45,
   "id": "2dd851a0",
   "metadata": {},
   "outputs": [
    {
     "data": {
      "text/html": [
       "<div>\n",
       "<style scoped>\n",
       "    .dataframe tbody tr th:only-of-type {\n",
       "        vertical-align: middle;\n",
       "    }\n",
       "\n",
       "    .dataframe tbody tr th {\n",
       "        vertical-align: top;\n",
       "    }\n",
       "\n",
       "    .dataframe thead th {\n",
       "        text-align: right;\n",
       "    }\n",
       "</style>\n",
       "<table border=\"1\" class=\"dataframe\">\n",
       "  <thead>\n",
       "    <tr style=\"text-align: right;\">\n",
       "      <th></th>\n",
       "      <th>product_id</th>\n",
       "      <th>product_name</th>\n",
       "      <th>reordered_proportion</th>\n",
       "    </tr>\n",
       "  </thead>\n",
       "  <tbody>\n",
       "    <tr>\n",
       "      <th>0</th>\n",
       "      <td>1</td>\n",
       "      <td>chocolate sandwich cookies</td>\n",
       "      <td>0.564286</td>\n",
       "    </tr>\n",
       "    <tr>\n",
       "      <th>1</th>\n",
       "      <td>2</td>\n",
       "      <td>all-seasons salt</td>\n",
       "      <td>0.000000</td>\n",
       "    </tr>\n",
       "    <tr>\n",
       "      <th>2</th>\n",
       "      <td>3</td>\n",
       "      <td>robust golden unsweetened oolong tea</td>\n",
       "      <td>0.738095</td>\n",
       "    </tr>\n",
       "    <tr>\n",
       "      <th>3</th>\n",
       "      <td>4</td>\n",
       "      <td>smart ones classic favorites mini rigatoni wit...</td>\n",
       "      <td>0.510204</td>\n",
       "    </tr>\n",
       "    <tr>\n",
       "      <th>4</th>\n",
       "      <td>7</td>\n",
       "      <td>pure coconut water with orange</td>\n",
       "      <td>0.500000</td>\n",
       "    </tr>\n",
       "    <tr>\n",
       "      <th>...</th>\n",
       "      <td>...</td>\n",
       "      <td>...</td>\n",
       "      <td>...</td>\n",
       "    </tr>\n",
       "    <tr>\n",
       "      <th>45568</th>\n",
       "      <td>49690</td>\n",
       "      <td>high performance energy drink</td>\n",
       "      <td>0.800000</td>\n",
       "    </tr>\n",
       "    <tr>\n",
       "      <th>45569</th>\n",
       "      <td>49691</td>\n",
       "      <td>original pancake &amp; waffle mix</td>\n",
       "      <td>0.430556</td>\n",
       "    </tr>\n",
       "    <tr>\n",
       "      <th>45570</th>\n",
       "      <td>49692</td>\n",
       "      <td>organic instant oatmeal light maple brown sugar</td>\n",
       "      <td>0.416667</td>\n",
       "    </tr>\n",
       "    <tr>\n",
       "      <th>45571</th>\n",
       "      <td>49693</td>\n",
       "      <td>spring water body wash</td>\n",
       "      <td>0.440000</td>\n",
       "    </tr>\n",
       "    <tr>\n",
       "      <th>45572</th>\n",
       "      <td>49694</td>\n",
       "      <td>burrito- steak &amp; cheese</td>\n",
       "      <td>0.333333</td>\n",
       "    </tr>\n",
       "  </tbody>\n",
       "</table>\n",
       "<p>45573 rows × 3 columns</p>\n",
       "</div>"
      ],
      "text/plain": [
       "       product_id                                       product_name  \\\n",
       "0               1                         chocolate sandwich cookies   \n",
       "1               2                                   all-seasons salt   \n",
       "2               3               robust golden unsweetened oolong tea   \n",
       "3               4  smart ones classic favorites mini rigatoni wit...   \n",
       "4               7                     pure coconut water with orange   \n",
       "...           ...                                                ...   \n",
       "45568       49690                      high performance energy drink   \n",
       "45569       49691                      original pancake & waffle mix   \n",
       "45570       49692    organic instant oatmeal light maple brown sugar   \n",
       "45571       49693                             spring water body wash   \n",
       "45572       49694                            burrito- steak & cheese   \n",
       "\n",
       "       reordered_proportion  \n",
       "0                  0.564286  \n",
       "1                  0.000000  \n",
       "2                  0.738095  \n",
       "3                  0.510204  \n",
       "4                  0.500000  \n",
       "...                     ...  \n",
       "45568              0.800000  \n",
       "45569              0.430556  \n",
       "45570              0.416667  \n",
       "45571              0.440000  \n",
       "45572              0.333333  \n",
       "\n",
       "[45573 rows x 3 columns]"
      ]
     },
     "metadata": {},
     "output_type": "display_data"
    }
   ],
   "source": [
    "reorders_proportion = order_products.merge(products, on = 'product_id')\n",
    "\n",
    "reorders_proportion = reorders_proportion.groupby(['product_id', 'product_name']).mean()\n",
    "\n",
    "reorders_proportion = reorders_proportion.reset_index()\n",
    "\n",
    "reorders_proportion = reorders_proportion.drop(columns = {'order_id', 'aisle_id', 'department_id'})\n",
    "\n",
    "# The columns in the previous line were dropped because their mean values are not useful in this context.\n",
    "\n",
    "reorders_proportion = reorders_proportion.rename(columns = {'reordered': 'reordered_proportion'})\n",
    "\n",
    "display(reorders_proportion[['product_id', 'product_name', 'reordered_proportion']])"
   ]
  },
  {
   "cell_type": "markdown",
   "id": "subject-boxing",
   "metadata": {},
   "source": [
    "[C4] For each customer, what proportion of their products ordered are reorders?"
   ]
  },
  {
   "cell_type": "code",
   "execution_count": 46,
   "id": "medical-couple",
   "metadata": {
    "scrolled": true
   },
   "outputs": [
    {
     "data": {
      "text/html": [
       "<div>\n",
       "<style scoped>\n",
       "    .dataframe tbody tr th:only-of-type {\n",
       "        vertical-align: middle;\n",
       "    }\n",
       "\n",
       "    .dataframe tbody tr th {\n",
       "        vertical-align: top;\n",
       "    }\n",
       "\n",
       "    .dataframe thead th {\n",
       "        text-align: right;\n",
       "    }\n",
       "</style>\n",
       "<table border=\"1\" class=\"dataframe\">\n",
       "  <thead>\n",
       "    <tr style=\"text-align: right;\">\n",
       "      <th></th>\n",
       "      <th>user_id</th>\n",
       "      <th>reordered_proportion</th>\n",
       "    </tr>\n",
       "  </thead>\n",
       "  <tbody>\n",
       "    <tr>\n",
       "      <th>0</th>\n",
       "      <td>2</td>\n",
       "      <td>0.038462</td>\n",
       "    </tr>\n",
       "    <tr>\n",
       "      <th>1</th>\n",
       "      <td>4</td>\n",
       "      <td>0.000000</td>\n",
       "    </tr>\n",
       "    <tr>\n",
       "      <th>2</th>\n",
       "      <td>5</td>\n",
       "      <td>0.666667</td>\n",
       "    </tr>\n",
       "    <tr>\n",
       "      <th>3</th>\n",
       "      <td>6</td>\n",
       "      <td>0.000000</td>\n",
       "    </tr>\n",
       "    <tr>\n",
       "      <th>4</th>\n",
       "      <td>7</td>\n",
       "      <td>0.928571</td>\n",
       "    </tr>\n",
       "    <tr>\n",
       "      <th>...</th>\n",
       "      <td>...</td>\n",
       "      <td>...</td>\n",
       "    </tr>\n",
       "    <tr>\n",
       "      <th>149621</th>\n",
       "      <td>206203</td>\n",
       "      <td>0.222222</td>\n",
       "    </tr>\n",
       "    <tr>\n",
       "      <th>149622</th>\n",
       "      <td>206206</td>\n",
       "      <td>0.714286</td>\n",
       "    </tr>\n",
       "    <tr>\n",
       "      <th>149623</th>\n",
       "      <td>206207</td>\n",
       "      <td>0.891304</td>\n",
       "    </tr>\n",
       "    <tr>\n",
       "      <th>149624</th>\n",
       "      <td>206208</td>\n",
       "      <td>0.696000</td>\n",
       "    </tr>\n",
       "    <tr>\n",
       "      <th>149625</th>\n",
       "      <td>206209</td>\n",
       "      <td>0.320000</td>\n",
       "    </tr>\n",
       "  </tbody>\n",
       "</table>\n",
       "<p>149626 rows × 2 columns</p>\n",
       "</div>"
      ],
      "text/plain": [
       "        user_id  reordered_proportion\n",
       "0             2              0.038462\n",
       "1             4              0.000000\n",
       "2             5              0.666667\n",
       "3             6              0.000000\n",
       "4             7              0.928571\n",
       "...         ...                   ...\n",
       "149621   206203              0.222222\n",
       "149622   206206              0.714286\n",
       "149623   206207              0.891304\n",
       "149624   206208              0.696000\n",
       "149625   206209              0.320000\n",
       "\n",
       "[149626 rows x 2 columns]"
      ]
     },
     "metadata": {},
     "output_type": "display_data"
    }
   ],
   "source": [
    "customer_reorder_proportion = order_products.merge(instacart_orders, on = 'order_id')\n",
    "\n",
    "customer_reorder_proportion = customer_reorder_proportion.groupby(['user_id']).mean()\n",
    "\n",
    "customer_reorder_proportion = customer_reorder_proportion.reset_index()\n",
    "\n",
    "customer_reorder_proportion = customer_reorder_proportion.rename(columns = {'reordered': 'reordered_proportion'})\n",
    "\n",
    "customer_reorder_proportion = customer_reorder_proportion.drop(columns = {'order_id', 'product_id', 'add_to_cart_order', 'index', 'order_number', 'order_dow', 'order_hour_of_day', 'days_since_prior_order'})\n",
    "\n",
    "display(customer_reorder_proportion)"
   ]
  },
  {
   "cell_type": "markdown",
   "id": "92d35137",
   "metadata": {},
   "source": [
    "[C5] What are the top 20 items that people put in their carts first? "
   ]
  },
  {
   "cell_type": "code",
   "execution_count": 47,
   "id": "0ae57274",
   "metadata": {
    "scrolled": true
   },
   "outputs": [
    {
     "data": {
      "text/html": [
       "<div>\n",
       "<style scoped>\n",
       "    .dataframe tbody tr th:only-of-type {\n",
       "        vertical-align: middle;\n",
       "    }\n",
       "\n",
       "    .dataframe tbody tr th {\n",
       "        vertical-align: top;\n",
       "    }\n",
       "\n",
       "    .dataframe thead th {\n",
       "        text-align: right;\n",
       "    }\n",
       "</style>\n",
       "<table border=\"1\" class=\"dataframe\">\n",
       "  <thead>\n",
       "    <tr style=\"text-align: right;\">\n",
       "      <th></th>\n",
       "      <th>product_id</th>\n",
       "      <th>product_name</th>\n",
       "      <th>first_in_cart_frequency</th>\n",
       "    </tr>\n",
       "  </thead>\n",
       "  <tbody>\n",
       "    <tr>\n",
       "      <th>13414</th>\n",
       "      <td>24852</td>\n",
       "      <td>banana</td>\n",
       "      <td>15562</td>\n",
       "    </tr>\n",
       "    <tr>\n",
       "      <th>7127</th>\n",
       "      <td>13176</td>\n",
       "      <td>bag of organic bananas</td>\n",
       "      <td>11026</td>\n",
       "    </tr>\n",
       "    <tr>\n",
       "      <th>15028</th>\n",
       "      <td>27845</td>\n",
       "      <td>organic whole milk</td>\n",
       "      <td>4363</td>\n",
       "    </tr>\n",
       "    <tr>\n",
       "      <th>11384</th>\n",
       "      <td>21137</td>\n",
       "      <td>organic strawberries</td>\n",
       "      <td>3946</td>\n",
       "    </tr>\n",
       "    <tr>\n",
       "      <th>25439</th>\n",
       "      <td>47209</td>\n",
       "      <td>organic hass avocado</td>\n",
       "      <td>3390</td>\n",
       "    </tr>\n",
       "    <tr>\n",
       "      <th>11786</th>\n",
       "      <td>21903</td>\n",
       "      <td>organic baby spinach</td>\n",
       "      <td>3336</td>\n",
       "    </tr>\n",
       "    <tr>\n",
       "      <th>25732</th>\n",
       "      <td>47766</td>\n",
       "      <td>organic avocado</td>\n",
       "      <td>3044</td>\n",
       "    </tr>\n",
       "    <tr>\n",
       "      <th>10622</th>\n",
       "      <td>19660</td>\n",
       "      <td>spring water</td>\n",
       "      <td>2336</td>\n",
       "    </tr>\n",
       "    <tr>\n",
       "      <th>9050</th>\n",
       "      <td>16797</td>\n",
       "      <td>strawberries</td>\n",
       "      <td>2308</td>\n",
       "    </tr>\n",
       "    <tr>\n",
       "      <th>15102</th>\n",
       "      <td>27966</td>\n",
       "      <td>organic raspberries</td>\n",
       "      <td>2024</td>\n",
       "    </tr>\n",
       "    <tr>\n",
       "      <th>24024</th>\n",
       "      <td>44632</td>\n",
       "      <td>sparkling water grapefruit</td>\n",
       "      <td>1914</td>\n",
       "    </tr>\n",
       "    <tr>\n",
       "      <th>26519</th>\n",
       "      <td>49235</td>\n",
       "      <td>organic half &amp; half</td>\n",
       "      <td>1797</td>\n",
       "    </tr>\n",
       "    <tr>\n",
       "      <th>25658</th>\n",
       "      <td>47626</td>\n",
       "      <td>large lemon</td>\n",
       "      <td>1737</td>\n",
       "    </tr>\n",
       "    <tr>\n",
       "      <th>115</th>\n",
       "      <td>196</td>\n",
       "      <td>soda</td>\n",
       "      <td>1733</td>\n",
       "    </tr>\n",
       "    <tr>\n",
       "      <th>20853</th>\n",
       "      <td>38689</td>\n",
       "      <td>organic reduced fat milk</td>\n",
       "      <td>1397</td>\n",
       "    </tr>\n",
       "    <tr>\n",
       "      <th>14158</th>\n",
       "      <td>26209</td>\n",
       "      <td>limes</td>\n",
       "      <td>1370</td>\n",
       "    </tr>\n",
       "    <tr>\n",
       "      <th>6660</th>\n",
       "      <td>12341</td>\n",
       "      <td>hass avocados</td>\n",
       "      <td>1340</td>\n",
       "    </tr>\n",
       "    <tr>\n",
       "      <th>3153</th>\n",
       "      <td>5785</td>\n",
       "      <td>organic reduced fat 2% milk</td>\n",
       "      <td>1310</td>\n",
       "    </tr>\n",
       "    <tr>\n",
       "      <th>14639</th>\n",
       "      <td>27086</td>\n",
       "      <td>half &amp; half</td>\n",
       "      <td>1309</td>\n",
       "    </tr>\n",
       "    <tr>\n",
       "      <th>23335</th>\n",
       "      <td>43352</td>\n",
       "      <td>raspberries</td>\n",
       "      <td>1246</td>\n",
       "    </tr>\n",
       "  </tbody>\n",
       "</table>\n",
       "</div>"
      ],
      "text/plain": [
       "       product_id                 product_name  first_in_cart_frequency\n",
       "13414       24852                       banana                    15562\n",
       "7127        13176       bag of organic bananas                    11026\n",
       "15028       27845           organic whole milk                     4363\n",
       "11384       21137         organic strawberries                     3946\n",
       "25439       47209         organic hass avocado                     3390\n",
       "11786       21903         organic baby spinach                     3336\n",
       "25732       47766              organic avocado                     3044\n",
       "10622       19660                 spring water                     2336\n",
       "9050        16797                 strawberries                     2308\n",
       "15102       27966          organic raspberries                     2024\n",
       "24024       44632   sparkling water grapefruit                     1914\n",
       "26519       49235          organic half & half                     1797\n",
       "25658       47626                  large lemon                     1737\n",
       "115           196                         soda                     1733\n",
       "20853       38689     organic reduced fat milk                     1397\n",
       "14158       26209                        limes                     1370\n",
       "6660        12341                hass avocados                     1340\n",
       "3153         5785  organic reduced fat 2% milk                     1310\n",
       "14639       27086                  half & half                     1309\n",
       "23335       43352                  raspberries                     1246"
      ]
     },
     "metadata": {},
     "output_type": "display_data"
    }
   ],
   "source": [
    "first_in_cart = products.merge(order_products, on = 'product_id')\n",
    "\n",
    "first_in_cart = first_in_cart[first_in_cart['add_to_cart_order'] == 1]\n",
    "\n",
    "first_in_cart = first_in_cart.groupby(['product_id', 'product_name']).count()\n",
    "\n",
    "first_in_cart = first_in_cart.reset_index()\n",
    "\n",
    "first_in_cart = first_in_cart.rename(columns = {'aisle_id': 'first_in_cart_frequency'})\n",
    "\n",
    "first_in_cart = first_in_cart.drop(columns = {'department_id', 'order_id', 'add_to_cart_order', 'reordered'})\n",
    "\n",
    "first_in_cart = first_in_cart.sort_values('first_in_cart_frequency', ascending = False)\n",
    "\n",
    "display(first_in_cart.head(20))"
   ]
  },
  {
   "cell_type": "markdown",
   "id": "0dca135d",
   "metadata": {},
   "source": [
    "# Conclusion <a id = 7></a>"
   ]
  },
  {
   "cell_type": "markdown",
   "id": "68b02f19",
   "metadata": {},
   "source": [
    "After cleaning each of the five tables in the dataset of duplicates and missing values, I filtered the tables in several different ways to help me find practical insights worth sharing to stakeholders. Where appropriate, I plotted graphs to support my insights. To any stakeholder with an interest in helping Instacart maintain its current performance, or even possibly improve in performance, the following are insights discovered during this analysis that are worth knowing:\n",
    "    \n",
    "(1) When I examined the hour of day that Instacart customers place their orders, I discovered that the middle 50% of orders are placed between 10 am and 4:59 pm. Keeping in mind that many stores open well before 10 am and close well after 4:59 pm, maybe we should find a way to encourage even more people to place their orders between 10 am and 4:59 pm, as this would allow for smoother and more time-efficient store openings and closings. A possibly good incentive would be to distribute coupons that are only usable between 10 and 5 pm.\n",
    "    \n",
    "(2) The most common days for customers to go grocery shopping, by far, are Monday and Tuesday, with Wednesday being a distant third. The least common day is Friday, followed closely by Thursday. If Instacart would be interested in increasing the number of orders made on \"slow days\", then this can be incentivized by offering coupons that are valid only on the slow days.\n",
    "    \n",
    "(3) 75% of orders are placed within half a month of the previous order. In other words 75% of customers place at least one order every two weeks, if not at least one order every single week. Interestingly, of the remaining 25% of customers it is, by far, most common to place a new order after 30 days. These are the customers who probably buy numerous products in bulk. To encourage more frequent shopping, Instacart may offer coupons that expire within 14 days of being printed.\n",
    "    \n",
    "(4) Most customers who have used Instacart have placed at most 10 orders in total. This is concerning, as this might mean that a large percentage of customers stop using the app after placing only a small number of orders. In order to incentivize customers to stick with Instacart, it would be a good idea to advertise to customers why Instacart is superior to similar apps, such as Uber Eats. Furthermore, maybe there should be some kind of award, e.g. 10 dollars off your next purchase of 40 dollars or more, for long longevity, e.g. after every 20 orders placed.\n",
    "    \n",
    "(5) Most commonly, customers only order between 1 and 10 products at a time. If we want to incentivize customers to buy more products than they normally would, it would be a good idea to distribute coupons that are valid only when a customer orders 11 or more items in total. An example of such a coupon would be getting 15 dollars off your total purchase of 100 dollars or more, so long as at least 11 items are purchased."
   ]
  }
 ],
 "metadata": {
  "ExecuteTimeLog": [
   {
    "duration": 354,
    "start_time": "2024-06-30T16:47:30.202Z"
   },
   {
    "duration": 5495,
    "start_time": "2024-06-30T16:47:38.480Z"
   },
   {
    "duration": 322,
    "start_time": "2024-06-30T16:47:43.980Z"
   },
   {
    "duration": 130,
    "start_time": "2024-06-30T16:47:44.306Z"
   },
   {
    "duration": 24,
    "start_time": "2024-06-30T16:47:44.441Z"
   },
   {
    "duration": 36,
    "start_time": "2024-06-30T16:47:44.473Z"
   },
   {
    "duration": 1726,
    "start_time": "2024-06-30T16:47:44.512Z"
   },
   {
    "duration": 452,
    "start_time": "2024-06-30T16:47:46.244Z"
   },
   {
    "duration": 42,
    "start_time": "2024-06-30T16:47:46.700Z"
   },
   {
    "duration": 260,
    "start_time": "2024-06-30T16:47:46.746Z"
   },
   {
    "duration": 46,
    "start_time": "2024-06-30T16:47:47.012Z"
   },
   {
    "duration": 113,
    "start_time": "2024-06-30T16:47:47.061Z"
   },
   {
    "duration": 52,
    "start_time": "2024-06-30T16:47:47.178Z"
   },
   {
    "duration": 16,
    "start_time": "2024-06-30T16:47:47.233Z"
   },
   {
    "duration": 90,
    "start_time": "2024-06-30T16:47:47.257Z"
   },
   {
    "duration": 43,
    "start_time": "2024-06-30T16:47:47.350Z"
   },
   {
    "duration": 16,
    "start_time": "2024-06-30T16:47:47.397Z"
   },
   {
    "duration": 27,
    "start_time": "2024-06-30T16:47:47.416Z"
   },
   {
    "duration": 13,
    "start_time": "2024-06-30T16:47:47.446Z"
   },
   {
    "duration": 13,
    "start_time": "2024-06-30T16:47:47.463Z"
   },
   {
    "duration": 1645,
    "start_time": "2024-06-30T16:47:47.479Z"
   },
   {
    "duration": 1273,
    "start_time": "2024-06-30T16:47:49.130Z"
   },
   {
    "duration": 36,
    "start_time": "2024-06-30T16:47:50.406Z"
   },
   {
    "duration": 24,
    "start_time": "2024-06-30T16:47:50.444Z"
   },
   {
    "duration": 8,
    "start_time": "2024-06-30T16:47:50.472Z"
   },
   {
    "duration": 13,
    "start_time": "2024-06-30T16:47:50.484Z"
   },
   {
    "duration": 53,
    "start_time": "2024-06-30T16:47:50.499Z"
   },
   {
    "duration": 32,
    "start_time": "2024-06-30T16:47:50.556Z"
   },
   {
    "duration": 36,
    "start_time": "2024-06-30T16:47:50.596Z"
   },
   {
    "duration": 314,
    "start_time": "2024-06-30T16:47:50.635Z"
   },
   {
    "duration": 10,
    "start_time": "2024-06-30T16:47:50.955Z"
   },
   {
    "duration": 133,
    "start_time": "2024-06-30T16:47:50.968Z"
   },
   {
    "duration": 8,
    "start_time": "2024-06-30T16:47:51.104Z"
   },
   {
    "duration": 22,
    "start_time": "2024-06-30T16:47:51.115Z"
   },
   {
    "duration": 139,
    "start_time": "2024-06-30T16:47:51.141Z"
   },
   {
    "duration": 71,
    "start_time": "2024-06-30T16:47:51.283Z"
   },
   {
    "duration": 545,
    "start_time": "2024-06-30T16:47:51.358Z"
   },
   {
    "duration": 347,
    "start_time": "2024-06-30T16:47:51.911Z"
   },
   {
    "duration": 653,
    "start_time": "2024-06-30T16:47:52.266Z"
   },
   {
    "duration": 666,
    "start_time": "2024-06-30T16:47:52.922Z"
   },
   {
    "duration": 39,
    "start_time": "2024-06-30T16:47:53.592Z"
   },
   {
    "duration": 676,
    "start_time": "2024-06-30T16:47:53.636Z"
   },
   {
    "duration": 2072,
    "start_time": "2024-06-30T16:47:54.315Z"
   },
   {
    "duration": 1017,
    "start_time": "2024-06-30T16:47:56.390Z"
   },
   {
    "duration": 1138,
    "start_time": "2024-06-30T16:47:57.411Z"
   },
   {
    "duration": 2008,
    "start_time": "2024-06-30T16:47:58.554Z"
   },
   {
    "duration": 2357,
    "start_time": "2024-06-30T16:48:00.565Z"
   },
   {
    "duration": 1248,
    "start_time": "2024-06-30T16:48:02.924Z"
   },
   {
    "duration": 760,
    "start_time": "2024-06-30T16:50:59.146Z"
   },
   {
    "duration": 248,
    "start_time": "2024-06-30T16:50:59.910Z"
   },
   {
    "duration": 86,
    "start_time": "2024-06-30T16:51:00.161Z"
   },
   {
    "duration": 22,
    "start_time": "2024-06-30T16:51:00.251Z"
   },
   {
    "duration": 17,
    "start_time": "2024-06-30T16:51:00.282Z"
   },
   {
    "duration": 1477,
    "start_time": "2024-06-30T16:51:00.302Z"
   },
   {
    "duration": 452,
    "start_time": "2024-06-30T16:51:01.782Z"
   },
   {
    "duration": 25,
    "start_time": "2024-06-30T16:51:02.238Z"
   },
   {
    "duration": 247,
    "start_time": "2024-06-30T16:51:02.266Z"
   },
   {
    "duration": 84,
    "start_time": "2024-06-30T16:51:02.529Z"
   },
   {
    "duration": 130,
    "start_time": "2024-06-30T16:51:02.616Z"
   },
   {
    "duration": 34,
    "start_time": "2024-06-30T16:51:02.750Z"
   },
   {
    "duration": 17,
    "start_time": "2024-06-30T16:51:02.787Z"
   },
   {
    "duration": 79,
    "start_time": "2024-06-30T16:51:02.807Z"
   },
   {
    "duration": 53,
    "start_time": "2024-06-30T16:51:02.889Z"
   },
   {
    "duration": 12,
    "start_time": "2024-06-30T16:51:02.946Z"
   },
   {
    "duration": 14,
    "start_time": "2024-06-30T16:51:02.961Z"
   },
   {
    "duration": 12,
    "start_time": "2024-06-30T16:51:02.977Z"
   },
   {
    "duration": 51,
    "start_time": "2024-06-30T16:51:02.994Z"
   },
   {
    "duration": 1527,
    "start_time": "2024-06-30T16:51:03.048Z"
   },
   {
    "duration": 1294,
    "start_time": "2024-06-30T16:51:04.579Z"
   },
   {
    "duration": 24,
    "start_time": "2024-06-30T16:51:05.876Z"
   },
   {
    "duration": 37,
    "start_time": "2024-06-30T16:51:05.904Z"
   },
   {
    "duration": 20,
    "start_time": "2024-06-30T16:51:05.943Z"
   },
   {
    "duration": 11,
    "start_time": "2024-06-30T16:51:05.966Z"
   },
   {
    "duration": 19,
    "start_time": "2024-06-30T16:51:05.982Z"
   },
   {
    "duration": 26,
    "start_time": "2024-06-30T16:51:06.030Z"
   },
   {
    "duration": 19,
    "start_time": "2024-06-30T16:51:06.065Z"
   },
   {
    "duration": 332,
    "start_time": "2024-06-30T16:51:06.087Z"
   },
   {
    "duration": 15,
    "start_time": "2024-06-30T16:51:06.422Z"
   },
   {
    "duration": 128,
    "start_time": "2024-06-30T16:51:06.441Z"
   },
   {
    "duration": 13,
    "start_time": "2024-06-30T16:51:06.572Z"
   },
   {
    "duration": 11,
    "start_time": "2024-06-30T16:51:06.588Z"
   },
   {
    "duration": 138,
    "start_time": "2024-06-30T16:51:06.603Z"
   },
   {
    "duration": 63,
    "start_time": "2024-06-30T16:51:06.745Z"
   },
   {
    "duration": 470,
    "start_time": "2024-06-30T16:51:06.831Z"
   },
   {
    "duration": 300,
    "start_time": "2024-06-30T16:51:07.304Z"
   },
   {
    "duration": 575,
    "start_time": "2024-06-30T16:51:07.607Z"
   },
   {
    "duration": 511,
    "start_time": "2024-06-30T16:51:08.187Z"
   },
   {
    "duration": 31,
    "start_time": "2024-06-30T16:51:08.701Z"
   },
   {
    "duration": 631,
    "start_time": "2024-06-30T16:51:08.735Z"
   },
   {
    "duration": 2065,
    "start_time": "2024-06-30T16:51:09.369Z"
   },
   {
    "duration": 1045,
    "start_time": "2024-06-30T16:51:11.438Z"
   },
   {
    "duration": 1146,
    "start_time": "2024-06-30T16:51:12.486Z"
   },
   {
    "duration": 1971,
    "start_time": "2024-06-30T16:51:13.635Z"
   },
   {
    "duration": 2302,
    "start_time": "2024-06-30T16:51:15.608Z"
   },
   {
    "duration": 1192,
    "start_time": "2024-06-30T16:51:17.913Z"
   },
   {
    "duration": 926,
    "start_time": "2024-06-30T16:51:53.945Z"
   },
   {
    "duration": 739,
    "start_time": "2024-06-30T16:52:09.867Z"
   },
   {
    "duration": 250,
    "start_time": "2024-06-30T16:52:10.610Z"
   },
   {
    "duration": 97,
    "start_time": "2024-06-30T16:52:10.864Z"
   },
   {
    "duration": 26,
    "start_time": "2024-06-30T16:52:10.965Z"
   },
   {
    "duration": 22,
    "start_time": "2024-06-30T16:52:10.994Z"
   },
   {
    "duration": 1488,
    "start_time": "2024-06-30T16:52:11.032Z"
   },
   {
    "duration": 404,
    "start_time": "2024-06-30T16:52:12.523Z"
   },
   {
    "duration": 26,
    "start_time": "2024-06-30T16:52:12.931Z"
   },
   {
    "duration": 219,
    "start_time": "2024-06-30T16:52:12.960Z"
   },
   {
    "duration": 96,
    "start_time": "2024-06-30T16:52:13.187Z"
   },
   {
    "duration": 119,
    "start_time": "2024-06-30T16:52:13.286Z"
   },
   {
    "duration": 45,
    "start_time": "2024-06-30T16:52:13.408Z"
   },
   {
    "duration": 17,
    "start_time": "2024-06-30T16:52:13.456Z"
   },
   {
    "duration": 82,
    "start_time": "2024-06-30T16:52:13.476Z"
   },
   {
    "duration": 36,
    "start_time": "2024-06-30T16:52:13.561Z"
   },
   {
    "duration": 33,
    "start_time": "2024-06-30T16:52:13.599Z"
   },
   {
    "duration": 15,
    "start_time": "2024-06-30T16:52:13.635Z"
   },
   {
    "duration": 11,
    "start_time": "2024-06-30T16:52:13.654Z"
   },
   {
    "duration": 15,
    "start_time": "2024-06-30T16:52:13.668Z"
   },
   {
    "duration": 1513,
    "start_time": "2024-06-30T16:52:13.686Z"
   },
   {
    "duration": 1273,
    "start_time": "2024-06-30T16:52:15.202Z"
   },
   {
    "duration": 23,
    "start_time": "2024-06-30T16:52:16.478Z"
   },
   {
    "duration": 47,
    "start_time": "2024-06-30T16:52:16.504Z"
   },
   {
    "duration": 7,
    "start_time": "2024-06-30T16:52:16.555Z"
   },
   {
    "duration": 12,
    "start_time": "2024-06-30T16:52:16.565Z"
   },
   {
    "duration": 50,
    "start_time": "2024-06-30T16:52:16.582Z"
   },
   {
    "duration": 26,
    "start_time": "2024-06-30T16:52:16.635Z"
   },
   {
    "duration": 19,
    "start_time": "2024-06-30T16:52:16.670Z"
   },
   {
    "duration": 340,
    "start_time": "2024-06-30T16:52:16.692Z"
   },
   {
    "duration": 11,
    "start_time": "2024-06-30T16:52:17.035Z"
   },
   {
    "duration": 139,
    "start_time": "2024-06-30T16:52:17.049Z"
   },
   {
    "duration": 9,
    "start_time": "2024-06-30T16:52:17.192Z"
   },
   {
    "duration": 26,
    "start_time": "2024-06-30T16:52:17.205Z"
   },
   {
    "duration": 120,
    "start_time": "2024-06-30T16:52:17.234Z"
   },
   {
    "duration": 56,
    "start_time": "2024-06-30T16:52:17.357Z"
   },
   {
    "duration": 458,
    "start_time": "2024-06-30T16:52:17.431Z"
   },
   {
    "duration": 287,
    "start_time": "2024-06-30T16:52:17.892Z"
   },
   {
    "duration": 494,
    "start_time": "2024-06-30T16:52:18.182Z"
   },
   {
    "duration": 445,
    "start_time": "2024-06-30T16:52:18.679Z"
   },
   {
    "duration": 21,
    "start_time": "2024-06-30T16:52:19.127Z"
   },
   {
    "duration": 550,
    "start_time": "2024-06-30T16:52:19.150Z"
   },
   {
    "duration": 1917,
    "start_time": "2024-06-30T16:52:19.704Z"
   },
   {
    "duration": 924,
    "start_time": "2024-06-30T16:52:21.623Z"
   },
   {
    "duration": 1026,
    "start_time": "2024-06-30T16:52:22.550Z"
   },
   {
    "duration": 1875,
    "start_time": "2024-06-30T16:52:23.583Z"
   },
   {
    "duration": 2054,
    "start_time": "2024-06-30T16:52:25.461Z"
   },
   {
    "duration": 1105,
    "start_time": "2024-06-30T16:52:27.518Z"
   },
   {
    "duration": 784,
    "start_time": "2024-06-30T16:53:15.097Z"
   },
   {
    "duration": 653,
    "start_time": "2024-06-30T16:53:36.996Z"
   },
   {
    "duration": 222,
    "start_time": "2024-06-30T16:53:37.653Z"
   },
   {
    "duration": 72,
    "start_time": "2024-06-30T16:53:37.878Z"
   },
   {
    "duration": 16,
    "start_time": "2024-06-30T16:53:37.954Z"
   },
   {
    "duration": 15,
    "start_time": "2024-06-30T16:53:37.973Z"
   },
   {
    "duration": 1316,
    "start_time": "2024-06-30T16:53:37.990Z"
   },
   {
    "duration": 349,
    "start_time": "2024-06-30T16:53:39.310Z"
   },
   {
    "duration": 20,
    "start_time": "2024-06-30T16:53:39.662Z"
   },
   {
    "duration": 196,
    "start_time": "2024-06-30T16:53:39.685Z"
   },
   {
    "duration": 87,
    "start_time": "2024-06-30T16:53:39.887Z"
   },
   {
    "duration": 89,
    "start_time": "2024-06-30T16:53:39.976Z"
   },
   {
    "duration": 26,
    "start_time": "2024-06-30T16:53:40.068Z"
   },
   {
    "duration": 36,
    "start_time": "2024-06-30T16:53:40.096Z"
   },
   {
    "duration": 56,
    "start_time": "2024-06-30T16:53:40.135Z"
   },
   {
    "duration": 54,
    "start_time": "2024-06-30T16:53:40.194Z"
   },
   {
    "duration": 11,
    "start_time": "2024-06-30T16:53:40.250Z"
   },
   {
    "duration": 12,
    "start_time": "2024-06-30T16:53:40.263Z"
   },
   {
    "duration": 10,
    "start_time": "2024-06-30T16:53:40.278Z"
   },
   {
    "duration": 10,
    "start_time": "2024-06-30T16:53:40.331Z"
   },
   {
    "duration": 1633,
    "start_time": "2024-06-30T16:53:40.345Z"
   },
   {
    "duration": 1362,
    "start_time": "2024-06-30T16:53:41.980Z"
   },
   {
    "duration": 23,
    "start_time": "2024-06-30T16:53:43.351Z"
   },
   {
    "duration": 22,
    "start_time": "2024-06-30T16:53:43.377Z"
   },
   {
    "duration": 31,
    "start_time": "2024-06-30T16:53:43.403Z"
   },
   {
    "duration": 15,
    "start_time": "2024-06-30T16:53:43.437Z"
   },
   {
    "duration": 17,
    "start_time": "2024-06-30T16:53:43.455Z"
   },
   {
    "duration": 63,
    "start_time": "2024-06-30T16:53:43.475Z"
   },
   {
    "duration": 11,
    "start_time": "2024-06-30T16:53:43.546Z"
   },
   {
    "duration": 317,
    "start_time": "2024-06-30T16:53:43.560Z"
   },
   {
    "duration": 11,
    "start_time": "2024-06-30T16:53:43.880Z"
   },
   {
    "duration": 145,
    "start_time": "2024-06-30T16:53:43.898Z"
   },
   {
    "duration": 13,
    "start_time": "2024-06-30T16:53:44.046Z"
   },
   {
    "duration": 9,
    "start_time": "2024-06-30T16:53:44.062Z"
   },
   {
    "duration": 137,
    "start_time": "2024-06-30T16:53:44.074Z"
   },
   {
    "duration": 68,
    "start_time": "2024-06-30T16:53:44.214Z"
   },
   {
    "duration": 450,
    "start_time": "2024-06-30T16:53:44.285Z"
   },
   {
    "duration": 355,
    "start_time": "2024-06-30T16:53:44.738Z"
   },
   {
    "duration": 668,
    "start_time": "2024-06-30T16:53:45.097Z"
   },
   {
    "duration": 459,
    "start_time": "2024-06-30T16:53:45.771Z"
   },
   {
    "duration": 18,
    "start_time": "2024-06-30T16:53:46.233Z"
   },
   {
    "duration": 535,
    "start_time": "2024-06-30T16:53:46.254Z"
   },
   {
    "duration": 1919,
    "start_time": "2024-06-30T16:53:46.792Z"
   },
   {
    "duration": 876,
    "start_time": "2024-06-30T16:53:48.715Z"
   },
   {
    "duration": 1032,
    "start_time": "2024-06-30T16:53:49.594Z"
   },
   {
    "duration": 1935,
    "start_time": "2024-06-30T16:53:50.628Z"
   },
   {
    "duration": 2028,
    "start_time": "2024-06-30T16:53:52.566Z"
   },
   {
    "duration": 1106,
    "start_time": "2024-06-30T16:53:54.596Z"
   },
   {
    "duration": 711,
    "start_time": "2024-06-30T16:56:26.214Z"
   },
   {
    "duration": 234,
    "start_time": "2024-06-30T16:56:26.931Z"
   },
   {
    "duration": 74,
    "start_time": "2024-06-30T16:56:27.168Z"
   },
   {
    "duration": 16,
    "start_time": "2024-06-30T16:56:27.246Z"
   },
   {
    "duration": 18,
    "start_time": "2024-06-30T16:56:27.264Z"
   },
   {
    "duration": 1321,
    "start_time": "2024-06-30T16:56:27.285Z"
   },
   {
    "duration": 335,
    "start_time": "2024-06-30T16:56:28.609Z"
   },
   {
    "duration": 19,
    "start_time": "2024-06-30T16:56:28.947Z"
   },
   {
    "duration": 198,
    "start_time": "2024-06-30T16:56:28.968Z"
   },
   {
    "duration": 83,
    "start_time": "2024-06-30T16:56:29.171Z"
   },
   {
    "duration": 110,
    "start_time": "2024-06-30T16:56:29.257Z"
   },
   {
    "duration": 26,
    "start_time": "2024-06-30T16:56:29.369Z"
   },
   {
    "duration": 33,
    "start_time": "2024-06-30T16:56:29.398Z"
   },
   {
    "duration": 50,
    "start_time": "2024-06-30T16:56:29.434Z"
   },
   {
    "duration": 53,
    "start_time": "2024-06-30T16:56:29.486Z"
   },
   {
    "duration": 11,
    "start_time": "2024-06-30T16:56:29.541Z"
   },
   {
    "duration": 19,
    "start_time": "2024-06-30T16:56:29.554Z"
   },
   {
    "duration": 10,
    "start_time": "2024-06-30T16:56:29.577Z"
   },
   {
    "duration": 47,
    "start_time": "2024-06-30T16:56:29.591Z"
   },
   {
    "duration": 1327,
    "start_time": "2024-06-30T16:56:29.641Z"
   },
   {
    "duration": 1190,
    "start_time": "2024-06-30T16:56:30.971Z"
   },
   {
    "duration": 18,
    "start_time": "2024-06-30T16:56:32.164Z"
   },
   {
    "duration": 43,
    "start_time": "2024-06-30T16:56:32.187Z"
   },
   {
    "duration": 6,
    "start_time": "2024-06-30T16:56:32.233Z"
   },
   {
    "duration": 8,
    "start_time": "2024-06-30T16:56:32.242Z"
   },
   {
    "duration": 16,
    "start_time": "2024-06-30T16:56:32.254Z"
   },
   {
    "duration": 71,
    "start_time": "2024-06-30T16:56:32.274Z"
   },
   {
    "duration": 11,
    "start_time": "2024-06-30T16:56:32.353Z"
   },
   {
    "duration": 314,
    "start_time": "2024-06-30T16:56:32.367Z"
   },
   {
    "duration": 11,
    "start_time": "2024-06-30T16:56:32.684Z"
   },
   {
    "duration": 134,
    "start_time": "2024-06-30T16:56:32.697Z"
   },
   {
    "duration": 9,
    "start_time": "2024-06-30T16:56:32.834Z"
   },
   {
    "duration": 8,
    "start_time": "2024-06-30T16:56:32.846Z"
   },
   {
    "duration": 127,
    "start_time": "2024-06-30T16:56:32.857Z"
   },
   {
    "duration": 66,
    "start_time": "2024-06-30T16:56:32.987Z"
   },
   {
    "duration": 436,
    "start_time": "2024-06-30T16:56:33.056Z"
   },
   {
    "duration": 267,
    "start_time": "2024-06-30T16:56:33.495Z"
   },
   {
    "duration": 493,
    "start_time": "2024-06-30T16:56:33.766Z"
   },
   {
    "duration": 444,
    "start_time": "2024-06-30T16:56:34.262Z"
   },
   {
    "duration": 32,
    "start_time": "2024-06-30T16:56:34.708Z"
   },
   {
    "duration": 566,
    "start_time": "2024-06-30T16:56:34.743Z"
   },
   {
    "duration": 1897,
    "start_time": "2024-06-30T16:56:35.312Z"
   },
   {
    "duration": 860,
    "start_time": "2024-06-30T16:56:37.212Z"
   },
   {
    "duration": 1017,
    "start_time": "2024-06-30T16:56:38.075Z"
   },
   {
    "duration": 1845,
    "start_time": "2024-06-30T16:56:39.094Z"
   },
   {
    "duration": 2063,
    "start_time": "2024-06-30T16:56:40.942Z"
   },
   {
    "duration": 1125,
    "start_time": "2024-06-30T16:56:43.011Z"
   }
  ],
  "kernelspec": {
   "display_name": "Python 3 (ipykernel)",
   "language": "python",
   "name": "python3"
  },
  "language_info": {
   "codemirror_mode": {
    "name": "ipython",
    "version": 3
   },
   "file_extension": ".py",
   "mimetype": "text/x-python",
   "name": "python",
   "nbconvert_exporter": "python",
   "pygments_lexer": "ipython3",
   "version": "3.9.19"
  },
  "toc": {
   "base_numbering": 1,
   "nav_menu": {},
   "number_sections": true,
   "sideBar": true,
   "skip_h1_title": true,
   "title_cell": "Table of Contents",
   "title_sidebar": "Contents",
   "toc_cell": false,
   "toc_position": {
    "height": "calc(100% - 180px)",
    "left": "10px",
    "top": "150px",
    "width": "256.2px"
   },
   "toc_section_display": true,
   "toc_window_display": true
  },
  "vscode": {
   "interpreter": {
    "hash": "01a7be9ec63e704a62cefc5fe7a4756944464ee731be31632bdf42a4cb4688cf"
   }
  }
 },
 "nbformat": 4,
 "nbformat_minor": 5
}
